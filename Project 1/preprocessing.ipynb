{
 "metadata": {
  "language_info": {
   "codemirror_mode": {
    "name": "ipython",
    "version": 3
   },
   "file_extension": ".py",
   "mimetype": "text/x-python",
   "name": "python",
   "nbconvert_exporter": "python",
   "pygments_lexer": "ipython3",
   "version": "3.7.3-final"
  },
  "orig_nbformat": 2,
  "kernelspec": {
   "name": "python3",
   "display_name": "Python 3.7.3 64-bit",
   "metadata": {
    "interpreter": {
     "hash": "31f2aee4e71d21fbe5cf8b01ff0e069b9275f58929596ceb00d14d90e3e16cd6"
    }
   }
  }
 },
 "nbformat": 4,
 "nbformat_minor": 2,
 "cells": [
  {
   "source": [
    "# Data Visualization\n",
    "# *Project 1*"
   ],
   "cell_type": "markdown",
   "metadata": {}
  },
  {
   "source": [
    "### Group AA\n",
    "Diana Furtado (m20200590@novaims.unl.pt); \n",
    "Hiromi Nakashima (m20201025@novaims.unl.pt); \n",
    "Miguel Martins (m20200671@novaims.unl.pt); \n",
    "Sofia Simão (m20200639@novaims.unl.pt)\n",
    "\n",
    "#### This project aims to analyse *People's movement* dataset and understand how COVID-19 infections are impacted the mobility\n"
   ],
   "cell_type": "markdown",
   "metadata": {}
  },
  {
   "source": [
    "*COVID Cases dataset source*: https://github.com/dssg-pt/covid19pt-data<br>\n",
    "*Movement dataset source*: https://www.google.com/covid19/mobility/<br>\n",
    "*Iso-codes dataset source*: https://gist.github.com/tadast/8827699"
   ],
   "cell_type": "markdown",
   "metadata": {}
  },
  {
   "cell_type": "code",
   "execution_count": 76,
   "metadata": {},
   "outputs": [],
   "source": [
    "#Import libraries\n",
    "import googlemaps\n",
    "import pandas as pd\n",
    "import numpy as np\n",
    "import scipy\n",
    "from sklearn.impute import KNNImputer\n",
    "import os\n",
    "from math import ceil\n",
    "import glob\n",
    "from pandas_profiling import ProfileReport"
   ]
  },
  {
   "source": [
    "## Import Datasets\n"
   ],
   "cell_type": "markdown",
   "metadata": {}
  },
  {
   "cell_type": "code",
   "execution_count": 46,
   "metadata": {},
   "outputs": [
    {
     "output_type": "stream",
     "name": "stderr",
     "text": [
      "/usr/lib/python3/dist-packages/IPython/core/interactiveshell.py:2714: DtypeWarning: Columns (4,5) have mixed types.Specify dtype option on import or set low_memory=False.\n  interactivity=interactivity, compiler=compiler, result=result)\n"
     ]
    }
   ],
   "source": [
    "original_mobility_data = pd.read_csv(\"Global_Mobility_Report.csv\")\n",
    "original_cases_data = pd.read_csv(\"owid-covid-data.csv\")\n",
    "original_iso_map = pd.read_csv(\"iso_map.csv\")"
   ]
  },
  {
   "source": [
    "## Data Exploration\n",
    "### Moblity Dataset"
   ],
   "cell_type": "markdown",
   "metadata": {}
  },
  {
   "cell_type": "code",
   "execution_count": 47,
   "metadata": {},
   "outputs": [
    {
     "output_type": "execute_result",
     "data": {
      "text/plain": [
       "  country_region_code        country_region sub_region_1 sub_region_2  \\\n",
       "0                  AE  United Arab Emirates          NaN          NaN   \n",
       "1                  AE  United Arab Emirates          NaN          NaN   \n",
       "2                  AE  United Arab Emirates          NaN          NaN   \n",
       "3                  AE  United Arab Emirates          NaN          NaN   \n",
       "4                  AE  United Arab Emirates          NaN          NaN   \n",
       "\n",
       "  metro_area iso_3166_2_code  census_fips_code                     place_id  \\\n",
       "0        NaN             NaN               NaN  ChIJvRKrsd9IXj4RpwoIwFYv0zM   \n",
       "1        NaN             NaN               NaN  ChIJvRKrsd9IXj4RpwoIwFYv0zM   \n",
       "2        NaN             NaN               NaN  ChIJvRKrsd9IXj4RpwoIwFYv0zM   \n",
       "3        NaN             NaN               NaN  ChIJvRKrsd9IXj4RpwoIwFYv0zM   \n",
       "4        NaN             NaN               NaN  ChIJvRKrsd9IXj4RpwoIwFYv0zM   \n",
       "\n",
       "         date  retail_and_recreation_percent_change_from_baseline  \\\n",
       "0  2020-02-15                                                0.0    \n",
       "1  2020-02-16                                                1.0    \n",
       "2  2020-02-17                                               -1.0    \n",
       "3  2020-02-18                                               -2.0    \n",
       "4  2020-02-19                                               -2.0    \n",
       "\n",
       "   grocery_and_pharmacy_percent_change_from_baseline  \\\n",
       "0                                                4.0   \n",
       "1                                                4.0   \n",
       "2                                                1.0   \n",
       "3                                                1.0   \n",
       "4                                                0.0   \n",
       "\n",
       "   parks_percent_change_from_baseline  \\\n",
       "0                                 5.0   \n",
       "1                                 4.0   \n",
       "2                                 5.0   \n",
       "3                                 5.0   \n",
       "4                                 4.0   \n",
       "\n",
       "   transit_stations_percent_change_from_baseline  \\\n",
       "0                                            0.0   \n",
       "1                                            1.0   \n",
       "2                                            1.0   \n",
       "3                                            0.0   \n",
       "4                                           -1.0   \n",
       "\n",
       "   workplaces_percent_change_from_baseline  \\\n",
       "0                                      2.0   \n",
       "1                                      2.0   \n",
       "2                                      2.0   \n",
       "3                                      2.0   \n",
       "4                                      2.0   \n",
       "\n",
       "   residential_percent_change_from_baseline  \n",
       "0                                       1.0  \n",
       "1                                       1.0  \n",
       "2                                       1.0  \n",
       "3                                       1.0  \n",
       "4                                       1.0  "
      ],
      "text/html": "<div>\n<style scoped>\n    .dataframe tbody tr th:only-of-type {\n        vertical-align: middle;\n    }\n\n    .dataframe tbody tr th {\n        vertical-align: top;\n    }\n\n    .dataframe thead th {\n        text-align: right;\n    }\n</style>\n<table border=\"1\" class=\"dataframe\">\n  <thead>\n    <tr style=\"text-align: right;\">\n      <th></th>\n      <th>country_region_code</th>\n      <th>country_region</th>\n      <th>sub_region_1</th>\n      <th>sub_region_2</th>\n      <th>metro_area</th>\n      <th>iso_3166_2_code</th>\n      <th>census_fips_code</th>\n      <th>place_id</th>\n      <th>date</th>\n      <th>retail_and_recreation_percent_change_from_baseline</th>\n      <th>grocery_and_pharmacy_percent_change_from_baseline</th>\n      <th>parks_percent_change_from_baseline</th>\n      <th>transit_stations_percent_change_from_baseline</th>\n      <th>workplaces_percent_change_from_baseline</th>\n      <th>residential_percent_change_from_baseline</th>\n    </tr>\n  </thead>\n  <tbody>\n    <tr>\n      <th>0</th>\n      <td>AE</td>\n      <td>United Arab Emirates</td>\n      <td>NaN</td>\n      <td>NaN</td>\n      <td>NaN</td>\n      <td>NaN</td>\n      <td>NaN</td>\n      <td>ChIJvRKrsd9IXj4RpwoIwFYv0zM</td>\n      <td>2020-02-15</td>\n      <td>0.0</td>\n      <td>4.0</td>\n      <td>5.0</td>\n      <td>0.0</td>\n      <td>2.0</td>\n      <td>1.0</td>\n    </tr>\n    <tr>\n      <th>1</th>\n      <td>AE</td>\n      <td>United Arab Emirates</td>\n      <td>NaN</td>\n      <td>NaN</td>\n      <td>NaN</td>\n      <td>NaN</td>\n      <td>NaN</td>\n      <td>ChIJvRKrsd9IXj4RpwoIwFYv0zM</td>\n      <td>2020-02-16</td>\n      <td>1.0</td>\n      <td>4.0</td>\n      <td>4.0</td>\n      <td>1.0</td>\n      <td>2.0</td>\n      <td>1.0</td>\n    </tr>\n    <tr>\n      <th>2</th>\n      <td>AE</td>\n      <td>United Arab Emirates</td>\n      <td>NaN</td>\n      <td>NaN</td>\n      <td>NaN</td>\n      <td>NaN</td>\n      <td>NaN</td>\n      <td>ChIJvRKrsd9IXj4RpwoIwFYv0zM</td>\n      <td>2020-02-17</td>\n      <td>-1.0</td>\n      <td>1.0</td>\n      <td>5.0</td>\n      <td>1.0</td>\n      <td>2.0</td>\n      <td>1.0</td>\n    </tr>\n    <tr>\n      <th>3</th>\n      <td>AE</td>\n      <td>United Arab Emirates</td>\n      <td>NaN</td>\n      <td>NaN</td>\n      <td>NaN</td>\n      <td>NaN</td>\n      <td>NaN</td>\n      <td>ChIJvRKrsd9IXj4RpwoIwFYv0zM</td>\n      <td>2020-02-18</td>\n      <td>-2.0</td>\n      <td>1.0</td>\n      <td>5.0</td>\n      <td>0.0</td>\n      <td>2.0</td>\n      <td>1.0</td>\n    </tr>\n    <tr>\n      <th>4</th>\n      <td>AE</td>\n      <td>United Arab Emirates</td>\n      <td>NaN</td>\n      <td>NaN</td>\n      <td>NaN</td>\n      <td>NaN</td>\n      <td>NaN</td>\n      <td>ChIJvRKrsd9IXj4RpwoIwFYv0zM</td>\n      <td>2020-02-19</td>\n      <td>-2.0</td>\n      <td>0.0</td>\n      <td>4.0</td>\n      <td>-1.0</td>\n      <td>2.0</td>\n      <td>1.0</td>\n    </tr>\n  </tbody>\n</table>\n</div>"
     },
     "metadata": {},
     "execution_count": 47
    }
   ],
   "source": [
    "original_mobility_data.head()"
   ]
  },
  {
   "cell_type": "code",
   "execution_count": 48,
   "metadata": {},
   "outputs": [
    {
     "output_type": "execute_result",
     "data": {
      "text/plain": [
       "country_region_code                                     382\n",
       "country_region                                            0\n",
       "sub_region_1                                          76043\n",
       "sub_region_2                                          76043\n",
       "metro_area                                            51348\n",
       "iso_3166_2_code                                       76043\n",
       "census_fips_code                                      76043\n",
       "place_id                                                  0\n",
       "date                                                      0\n",
       "retail_and_recreation_percent_change_from_baseline     1121\n",
       "grocery_and_pharmacy_percent_change_from_baseline      1150\n",
       "parks_percent_change_from_baseline                     1517\n",
       "transit_stations_percent_change_from_baseline          1026\n",
       "workplaces_percent_change_from_baseline                 149\n",
       "residential_percent_change_from_baseline               1242\n",
       "dtype: int64"
      ]
     },
     "metadata": {},
     "execution_count": 48
    }
   ],
   "source": [
    "original_mobility_data[original_mobility_data['sub_region_1'].isna()].isna().sum()"
   ]
  },
  {
   "cell_type": "code",
   "execution_count": 49,
   "metadata": {},
   "outputs": [
    {
     "output_type": "execute_result",
     "data": {
      "text/plain": [
       "        country_region_code       country_region sub_region_1 sub_region_2  \\\n",
       "3192                     AF          Afghanistan          NaN          NaN   \n",
       "3199                     AF          Afghanistan          NaN          NaN   \n",
       "3206                     AF          Afghanistan          NaN          NaN   \n",
       "3907                     AG  Antigua and Barbuda          NaN          NaN   \n",
       "3908                     AG  Antigua and Barbuda          NaN          NaN   \n",
       "...                     ...                  ...          ...          ...   \n",
       "4464814                  YE                Yemen          NaN          NaN   \n",
       "4464815                  YE                Yemen          NaN          NaN   \n",
       "4469763                  ZW             Zimbabwe          NaN          NaN   \n",
       "4469770                  ZW             Zimbabwe          NaN          NaN   \n",
       "4469777                  ZW             Zimbabwe          NaN          NaN   \n",
       "\n",
       "        metro_area iso_3166_2_code  census_fips_code  \\\n",
       "3192           NaN             NaN               NaN   \n",
       "3199           NaN             NaN               NaN   \n",
       "3206           NaN             NaN               NaN   \n",
       "3907           NaN             NaN               NaN   \n",
       "3908           NaN             NaN               NaN   \n",
       "...            ...             ...               ...   \n",
       "4464814        NaN             NaN               NaN   \n",
       "4464815        NaN             NaN               NaN   \n",
       "4469763        NaN             NaN               NaN   \n",
       "4469770        NaN             NaN               NaN   \n",
       "4469777        NaN             NaN               NaN   \n",
       "\n",
       "                            place_id        date  \\\n",
       "3192     ChIJbQL_-LZu0TgReNqWvg1GtfM  2020-08-21   \n",
       "3199     ChIJbQL_-LZu0TgReNqWvg1GtfM  2020-08-28   \n",
       "3206     ChIJbQL_-LZu0TgReNqWvg1GtfM  2020-09-04   \n",
       "3907     ChIJwdG4bbluDYwRlHmL4Yg3aic  2020-08-17   \n",
       "3908     ChIJwdG4bbluDYwRlHmL4Yg3aic  2020-08-18   \n",
       "...                              ...         ...   \n",
       "4464814  ChIJX7w0fKzbAxYRrneufjcp8ZI  2020-09-09   \n",
       "4464815  ChIJX7w0fKzbAxYRrneufjcp8ZI  2020-09-10   \n",
       "4469763  ChIJYXGxBuekMRkR7r_LxV84wKE  2020-08-23   \n",
       "4469770  ChIJYXGxBuekMRkR7r_LxV84wKE  2020-08-30   \n",
       "4469777  ChIJYXGxBuekMRkR7r_LxV84wKE  2020-09-06   \n",
       "\n",
       "         retail_and_recreation_percent_change_from_baseline  \\\n",
       "3192                                                   NaN    \n",
       "3199                                                   NaN    \n",
       "3206                                                   NaN    \n",
       "3907                                                   NaN    \n",
       "3908                                                   NaN    \n",
       "...                                                    ...    \n",
       "4464814                                               24.0    \n",
       "4464815                                               28.0    \n",
       "4469763                                              -12.0    \n",
       "4469770                                               -7.0    \n",
       "4469777                                               -2.0    \n",
       "\n",
       "         grocery_and_pharmacy_percent_change_from_baseline  \\\n",
       "3192                                                   NaN   \n",
       "3199                                                   NaN   \n",
       "3206                                                   NaN   \n",
       "3907                                                   NaN   \n",
       "3908                                                   NaN   \n",
       "...                                                    ...   \n",
       "4464814                                               27.0   \n",
       "4464815                                               27.0   \n",
       "4469763                                               -5.0   \n",
       "4469770                                                1.0   \n",
       "4469777                                                1.0   \n",
       "\n",
       "         parks_percent_change_from_baseline  \\\n",
       "3192                                   12.0   \n",
       "3199                                    7.0   \n",
       "3206                                    7.0   \n",
       "3907                                    NaN   \n",
       "3908                                    NaN   \n",
       "...                                     ...   \n",
       "4464814                                 NaN   \n",
       "4464815                                 NaN   \n",
       "4469763                                 NaN   \n",
       "4469770                                 NaN   \n",
       "4469777                                 NaN   \n",
       "\n",
       "         transit_stations_percent_change_from_baseline  \\\n",
       "3192                                               NaN   \n",
       "3199                                               NaN   \n",
       "3206                                               NaN   \n",
       "3907                                               NaN   \n",
       "3908                                               NaN   \n",
       "...                                                ...   \n",
       "4464814                                            NaN   \n",
       "4464815                                            NaN   \n",
       "4469763                                            NaN   \n",
       "4469770                                            NaN   \n",
       "4469777                                            NaN   \n",
       "\n",
       "         workplaces_percent_change_from_baseline  \\\n",
       "3192                                         1.0   \n",
       "3199                                         2.0   \n",
       "3206                                         0.0   \n",
       "3907                                       -33.0   \n",
       "3908                                       -33.0   \n",
       "...                                          ...   \n",
       "4464814                                     -4.0   \n",
       "4464815                                      3.0   \n",
       "4469763                                     13.0   \n",
       "4469770                                     12.0   \n",
       "4469777                                     12.0   \n",
       "\n",
       "         residential_percent_change_from_baseline  \n",
       "3192                                          1.0  \n",
       "3199                                          2.0  \n",
       "3206                                          3.0  \n",
       "3907                                         14.0  \n",
       "3908                                         15.0  \n",
       "...                                           ...  \n",
       "4464814                                       2.0  \n",
       "4464815                                       4.0  \n",
       "4469763                                      17.0  \n",
       "4469770                                      14.0  \n",
       "4469777                                      14.0  \n",
       "\n",
       "[1026 rows x 15 columns]"
      ],
      "text/html": "<div>\n<style scoped>\n    .dataframe tbody tr th:only-of-type {\n        vertical-align: middle;\n    }\n\n    .dataframe tbody tr th {\n        vertical-align: top;\n    }\n\n    .dataframe thead th {\n        text-align: right;\n    }\n</style>\n<table border=\"1\" class=\"dataframe\">\n  <thead>\n    <tr style=\"text-align: right;\">\n      <th></th>\n      <th>country_region_code</th>\n      <th>country_region</th>\n      <th>sub_region_1</th>\n      <th>sub_region_2</th>\n      <th>metro_area</th>\n      <th>iso_3166_2_code</th>\n      <th>census_fips_code</th>\n      <th>place_id</th>\n      <th>date</th>\n      <th>retail_and_recreation_percent_change_from_baseline</th>\n      <th>grocery_and_pharmacy_percent_change_from_baseline</th>\n      <th>parks_percent_change_from_baseline</th>\n      <th>transit_stations_percent_change_from_baseline</th>\n      <th>workplaces_percent_change_from_baseline</th>\n      <th>residential_percent_change_from_baseline</th>\n    </tr>\n  </thead>\n  <tbody>\n    <tr>\n      <th>3192</th>\n      <td>AF</td>\n      <td>Afghanistan</td>\n      <td>NaN</td>\n      <td>NaN</td>\n      <td>NaN</td>\n      <td>NaN</td>\n      <td>NaN</td>\n      <td>ChIJbQL_-LZu0TgReNqWvg1GtfM</td>\n      <td>2020-08-21</td>\n      <td>NaN</td>\n      <td>NaN</td>\n      <td>12.0</td>\n      <td>NaN</td>\n      <td>1.0</td>\n      <td>1.0</td>\n    </tr>\n    <tr>\n      <th>3199</th>\n      <td>AF</td>\n      <td>Afghanistan</td>\n      <td>NaN</td>\n      <td>NaN</td>\n      <td>NaN</td>\n      <td>NaN</td>\n      <td>NaN</td>\n      <td>ChIJbQL_-LZu0TgReNqWvg1GtfM</td>\n      <td>2020-08-28</td>\n      <td>NaN</td>\n      <td>NaN</td>\n      <td>7.0</td>\n      <td>NaN</td>\n      <td>2.0</td>\n      <td>2.0</td>\n    </tr>\n    <tr>\n      <th>3206</th>\n      <td>AF</td>\n      <td>Afghanistan</td>\n      <td>NaN</td>\n      <td>NaN</td>\n      <td>NaN</td>\n      <td>NaN</td>\n      <td>NaN</td>\n      <td>ChIJbQL_-LZu0TgReNqWvg1GtfM</td>\n      <td>2020-09-04</td>\n      <td>NaN</td>\n      <td>NaN</td>\n      <td>7.0</td>\n      <td>NaN</td>\n      <td>0.0</td>\n      <td>3.0</td>\n    </tr>\n    <tr>\n      <th>3907</th>\n      <td>AG</td>\n      <td>Antigua and Barbuda</td>\n      <td>NaN</td>\n      <td>NaN</td>\n      <td>NaN</td>\n      <td>NaN</td>\n      <td>NaN</td>\n      <td>ChIJwdG4bbluDYwRlHmL4Yg3aic</td>\n      <td>2020-08-17</td>\n      <td>NaN</td>\n      <td>NaN</td>\n      <td>NaN</td>\n      <td>NaN</td>\n      <td>-33.0</td>\n      <td>14.0</td>\n    </tr>\n    <tr>\n      <th>3908</th>\n      <td>AG</td>\n      <td>Antigua and Barbuda</td>\n      <td>NaN</td>\n      <td>NaN</td>\n      <td>NaN</td>\n      <td>NaN</td>\n      <td>NaN</td>\n      <td>ChIJwdG4bbluDYwRlHmL4Yg3aic</td>\n      <td>2020-08-18</td>\n      <td>NaN</td>\n      <td>NaN</td>\n      <td>NaN</td>\n      <td>NaN</td>\n      <td>-33.0</td>\n      <td>15.0</td>\n    </tr>\n    <tr>\n      <th>...</th>\n      <td>...</td>\n      <td>...</td>\n      <td>...</td>\n      <td>...</td>\n      <td>...</td>\n      <td>...</td>\n      <td>...</td>\n      <td>...</td>\n      <td>...</td>\n      <td>...</td>\n      <td>...</td>\n      <td>...</td>\n      <td>...</td>\n      <td>...</td>\n      <td>...</td>\n    </tr>\n    <tr>\n      <th>4464814</th>\n      <td>YE</td>\n      <td>Yemen</td>\n      <td>NaN</td>\n      <td>NaN</td>\n      <td>NaN</td>\n      <td>NaN</td>\n      <td>NaN</td>\n      <td>ChIJX7w0fKzbAxYRrneufjcp8ZI</td>\n      <td>2020-09-09</td>\n      <td>24.0</td>\n      <td>27.0</td>\n      <td>NaN</td>\n      <td>NaN</td>\n      <td>-4.0</td>\n      <td>2.0</td>\n    </tr>\n    <tr>\n      <th>4464815</th>\n      <td>YE</td>\n      <td>Yemen</td>\n      <td>NaN</td>\n      <td>NaN</td>\n      <td>NaN</td>\n      <td>NaN</td>\n      <td>NaN</td>\n      <td>ChIJX7w0fKzbAxYRrneufjcp8ZI</td>\n      <td>2020-09-10</td>\n      <td>28.0</td>\n      <td>27.0</td>\n      <td>NaN</td>\n      <td>NaN</td>\n      <td>3.0</td>\n      <td>4.0</td>\n    </tr>\n    <tr>\n      <th>4469763</th>\n      <td>ZW</td>\n      <td>Zimbabwe</td>\n      <td>NaN</td>\n      <td>NaN</td>\n      <td>NaN</td>\n      <td>NaN</td>\n      <td>NaN</td>\n      <td>ChIJYXGxBuekMRkR7r_LxV84wKE</td>\n      <td>2020-08-23</td>\n      <td>-12.0</td>\n      <td>-5.0</td>\n      <td>NaN</td>\n      <td>NaN</td>\n      <td>13.0</td>\n      <td>17.0</td>\n    </tr>\n    <tr>\n      <th>4469770</th>\n      <td>ZW</td>\n      <td>Zimbabwe</td>\n      <td>NaN</td>\n      <td>NaN</td>\n      <td>NaN</td>\n      <td>NaN</td>\n      <td>NaN</td>\n      <td>ChIJYXGxBuekMRkR7r_LxV84wKE</td>\n      <td>2020-08-30</td>\n      <td>-7.0</td>\n      <td>1.0</td>\n      <td>NaN</td>\n      <td>NaN</td>\n      <td>12.0</td>\n      <td>14.0</td>\n    </tr>\n    <tr>\n      <th>4469777</th>\n      <td>ZW</td>\n      <td>Zimbabwe</td>\n      <td>NaN</td>\n      <td>NaN</td>\n      <td>NaN</td>\n      <td>NaN</td>\n      <td>NaN</td>\n      <td>ChIJYXGxBuekMRkR7r_LxV84wKE</td>\n      <td>2020-09-06</td>\n      <td>-2.0</td>\n      <td>1.0</td>\n      <td>NaN</td>\n      <td>NaN</td>\n      <td>12.0</td>\n      <td>14.0</td>\n    </tr>\n  </tbody>\n</table>\n<p>1026 rows × 15 columns</p>\n</div>"
     },
     "metadata": {},
     "execution_count": 49
    }
   ],
   "source": [
    "country_data = original_mobility_data[original_mobility_data['sub_region_1'].isna()]\n",
    "country_data[country_data['transit_stations_percent_change_from_baseline'].isna()] #Check how some missing values are distributed"
   ]
  },
  {
   "cell_type": "code",
   "execution_count": 50,
   "metadata": {},
   "outputs": [
    {
     "output_type": "execute_result",
     "data": {
      "text/plain": [
       "Namibia    382\n",
       "Name: country_region, dtype: int64"
      ]
     },
     "metadata": {},
     "execution_count": 50
    }
   ],
   "source": [
    "country_data = original_mobility_data[original_mobility_data['sub_region_1'].isna()]\r\n",
    "country_data[country_data['country_region_code'].isna()]['country_region'].value_counts() #All missing values are from namibia"
   ]
  },
  {
   "cell_type": "code",
   "execution_count": 51,
   "metadata": {},
   "outputs": [
    {
     "output_type": "execute_result",
     "data": {
      "text/plain": [
       "country_region_code                                    object\n",
       "country_region                                         object\n",
       "sub_region_1                                           object\n",
       "sub_region_2                                           object\n",
       "metro_area                                             object\n",
       "iso_3166_2_code                                        object\n",
       "census_fips_code                                      float64\n",
       "place_id                                               object\n",
       "date                                                   object\n",
       "retail_and_recreation_percent_change_from_baseline    float64\n",
       "grocery_and_pharmacy_percent_change_from_baseline     float64\n",
       "parks_percent_change_from_baseline                    float64\n",
       "transit_stations_percent_change_from_baseline         float64\n",
       "workplaces_percent_change_from_baseline               float64\n",
       "residential_percent_change_from_baseline              float64\n",
       "dtype: object"
      ]
     },
     "metadata": {},
     "execution_count": 51
    }
   ],
   "source": [
    "original_mobility_data.dtypes"
   ]
  },
  {
   "source": [
    "### Covid cases dataset"
   ],
   "cell_type": "markdown",
   "metadata": {}
  },
  {
   "cell_type": "code",
   "execution_count": 52,
   "metadata": {},
   "outputs": [
    {
     "output_type": "execute_result",
     "data": {
      "text/plain": [
       "  iso_code continent     location        date  total_cases  new_cases  \\\n",
       "0      AFG      Asia  Afghanistan  2020-02-24          1.0        1.0   \n",
       "1      AFG      Asia  Afghanistan  2020-02-25          1.0        0.0   \n",
       "2      AFG      Asia  Afghanistan  2020-02-26          1.0        0.0   \n",
       "3      AFG      Asia  Afghanistan  2020-02-27          1.0        0.0   \n",
       "4      AFG      Asia  Afghanistan  2020-02-28          1.0        0.0   \n",
       "\n",
       "   new_cases_smoothed  total_deaths  new_deaths  new_deaths_smoothed  ...  \\\n",
       "0                 NaN           NaN         NaN                  NaN  ...   \n",
       "1                 NaN           NaN         NaN                  NaN  ...   \n",
       "2                 NaN           NaN         NaN                  NaN  ...   \n",
       "3                 NaN           NaN         NaN                  NaN  ...   \n",
       "4                 NaN           NaN         NaN                  NaN  ...   \n",
       "\n",
       "   gdp_per_capita  extreme_poverty  cardiovasc_death_rate  \\\n",
       "0        1803.987              NaN                597.029   \n",
       "1        1803.987              NaN                597.029   \n",
       "2        1803.987              NaN                597.029   \n",
       "3        1803.987              NaN                597.029   \n",
       "4        1803.987              NaN                597.029   \n",
       "\n",
       "   diabetes_prevalence  female_smokers  male_smokers  handwashing_facilities  \\\n",
       "0                 9.59             NaN           NaN                  37.746   \n",
       "1                 9.59             NaN           NaN                  37.746   \n",
       "2                 9.59             NaN           NaN                  37.746   \n",
       "3                 9.59             NaN           NaN                  37.746   \n",
       "4                 9.59             NaN           NaN                  37.746   \n",
       "\n",
       "   hospital_beds_per_thousand  life_expectancy  human_development_index  \n",
       "0                         0.5            64.83                    0.511  \n",
       "1                         0.5            64.83                    0.511  \n",
       "2                         0.5            64.83                    0.511  \n",
       "3                         0.5            64.83                    0.511  \n",
       "4                         0.5            64.83                    0.511  \n",
       "\n",
       "[5 rows x 59 columns]"
      ],
      "text/html": "<div>\n<style scoped>\n    .dataframe tbody tr th:only-of-type {\n        vertical-align: middle;\n    }\n\n    .dataframe tbody tr th {\n        vertical-align: top;\n    }\n\n    .dataframe thead th {\n        text-align: right;\n    }\n</style>\n<table border=\"1\" class=\"dataframe\">\n  <thead>\n    <tr style=\"text-align: right;\">\n      <th></th>\n      <th>iso_code</th>\n      <th>continent</th>\n      <th>location</th>\n      <th>date</th>\n      <th>total_cases</th>\n      <th>new_cases</th>\n      <th>new_cases_smoothed</th>\n      <th>total_deaths</th>\n      <th>new_deaths</th>\n      <th>new_deaths_smoothed</th>\n      <th>...</th>\n      <th>gdp_per_capita</th>\n      <th>extreme_poverty</th>\n      <th>cardiovasc_death_rate</th>\n      <th>diabetes_prevalence</th>\n      <th>female_smokers</th>\n      <th>male_smokers</th>\n      <th>handwashing_facilities</th>\n      <th>hospital_beds_per_thousand</th>\n      <th>life_expectancy</th>\n      <th>human_development_index</th>\n    </tr>\n  </thead>\n  <tbody>\n    <tr>\n      <th>0</th>\n      <td>AFG</td>\n      <td>Asia</td>\n      <td>Afghanistan</td>\n      <td>2020-02-24</td>\n      <td>1.0</td>\n      <td>1.0</td>\n      <td>NaN</td>\n      <td>NaN</td>\n      <td>NaN</td>\n      <td>NaN</td>\n      <td>...</td>\n      <td>1803.987</td>\n      <td>NaN</td>\n      <td>597.029</td>\n      <td>9.59</td>\n      <td>NaN</td>\n      <td>NaN</td>\n      <td>37.746</td>\n      <td>0.5</td>\n      <td>64.83</td>\n      <td>0.511</td>\n    </tr>\n    <tr>\n      <th>1</th>\n      <td>AFG</td>\n      <td>Asia</td>\n      <td>Afghanistan</td>\n      <td>2020-02-25</td>\n      <td>1.0</td>\n      <td>0.0</td>\n      <td>NaN</td>\n      <td>NaN</td>\n      <td>NaN</td>\n      <td>NaN</td>\n      <td>...</td>\n      <td>1803.987</td>\n      <td>NaN</td>\n      <td>597.029</td>\n      <td>9.59</td>\n      <td>NaN</td>\n      <td>NaN</td>\n      <td>37.746</td>\n      <td>0.5</td>\n      <td>64.83</td>\n      <td>0.511</td>\n    </tr>\n    <tr>\n      <th>2</th>\n      <td>AFG</td>\n      <td>Asia</td>\n      <td>Afghanistan</td>\n      <td>2020-02-26</td>\n      <td>1.0</td>\n      <td>0.0</td>\n      <td>NaN</td>\n      <td>NaN</td>\n      <td>NaN</td>\n      <td>NaN</td>\n      <td>...</td>\n      <td>1803.987</td>\n      <td>NaN</td>\n      <td>597.029</td>\n      <td>9.59</td>\n      <td>NaN</td>\n      <td>NaN</td>\n      <td>37.746</td>\n      <td>0.5</td>\n      <td>64.83</td>\n      <td>0.511</td>\n    </tr>\n    <tr>\n      <th>3</th>\n      <td>AFG</td>\n      <td>Asia</td>\n      <td>Afghanistan</td>\n      <td>2020-02-27</td>\n      <td>1.0</td>\n      <td>0.0</td>\n      <td>NaN</td>\n      <td>NaN</td>\n      <td>NaN</td>\n      <td>NaN</td>\n      <td>...</td>\n      <td>1803.987</td>\n      <td>NaN</td>\n      <td>597.029</td>\n      <td>9.59</td>\n      <td>NaN</td>\n      <td>NaN</td>\n      <td>37.746</td>\n      <td>0.5</td>\n      <td>64.83</td>\n      <td>0.511</td>\n    </tr>\n    <tr>\n      <th>4</th>\n      <td>AFG</td>\n      <td>Asia</td>\n      <td>Afghanistan</td>\n      <td>2020-02-28</td>\n      <td>1.0</td>\n      <td>0.0</td>\n      <td>NaN</td>\n      <td>NaN</td>\n      <td>NaN</td>\n      <td>NaN</td>\n      <td>...</td>\n      <td>1803.987</td>\n      <td>NaN</td>\n      <td>597.029</td>\n      <td>9.59</td>\n      <td>NaN</td>\n      <td>NaN</td>\n      <td>37.746</td>\n      <td>0.5</td>\n      <td>64.83</td>\n      <td>0.511</td>\n    </tr>\n  </tbody>\n</table>\n<p>5 rows × 59 columns</p>\n</div>"
     },
     "metadata": {},
     "execution_count": 52
    }
   ],
   "source": [
    "original_cases_data.head()"
   ]
  },
  {
   "cell_type": "code",
   "execution_count": 53,
   "metadata": {},
   "outputs": [
    {
     "output_type": "stream",
     "name": "stdout",
     "text": [
      "<class 'pandas.core.frame.DataFrame'>\nRangeIndex: 73181 entries, 0 to 73180\nData columns (total 59 columns):\n #   Column                                 Non-Null Count  Dtype  \n---  ------                                 --------------  -----  \n 0   iso_code                               73181 non-null  object \n 1   continent                              69556 non-null  object \n 2   location                               73181 non-null  object \n 3   date                                   73181 non-null  object \n 4   total_cases                            72127 non-null  float64\n 5   new_cases                              72125 non-null  float64\n 6   new_cases_smoothed                     71124 non-null  float64\n 7   total_deaths                           62982 non-null  float64\n 8   new_deaths                             63140 non-null  float64\n 9   new_deaths_smoothed                    71124 non-null  float64\n 10  total_cases_per_million                71733 non-null  float64\n 11  new_cases_per_million                  71731 non-null  float64\n 12  new_cases_smoothed_per_million         70735 non-null  float64\n 13  total_deaths_per_million               62601 non-null  float64\n 14  new_deaths_per_million                 62759 non-null  float64\n 15  new_deaths_smoothed_per_million        70735 non-null  float64\n 16  reproduction_rate                      58932 non-null  float64\n 17  icu_patients                           7639 non-null   float64\n 18  icu_patients_per_million               7639 non-null   float64\n 19  hosp_patients                          9185 non-null   float64\n 20  hosp_patients_per_million              9185 non-null   float64\n 21  weekly_icu_admissions                  645 non-null    float64\n 22  weekly_icu_admissions_per_million      645 non-null    float64\n 23  weekly_hosp_admissions                 1229 non-null   float64\n 24  weekly_hosp_admissions_per_million     1229 non-null   float64\n 25  new_tests                              32938 non-null  float64\n 26  total_tests                            32763 non-null  float64\n 27  total_tests_per_thousand               32763 non-null  float64\n 28  new_tests_per_thousand                 32938 non-null  float64\n 29  new_tests_smoothed                     37578 non-null  float64\n 30  new_tests_smoothed_per_thousand        37578 non-null  float64\n 31  positive_rate                          36371 non-null  float64\n 32  tests_per_case                         35810 non-null  float64\n 33  tests_units                            38884 non-null  object \n 34  total_vaccinations                     3304 non-null   float64\n 35  people_vaccinated                      2910 non-null   float64\n 36  people_fully_vaccinated                1932 non-null   float64\n 37  new_vaccinations                       2784 non-null   float64\n 38  new_vaccinations_smoothed              4961 non-null   float64\n 39  total_vaccinations_per_hundred         3304 non-null   float64\n 40  people_vaccinated_per_hundred          2910 non-null   float64\n 41  people_fully_vaccinated_per_hundred    1932 non-null   float64\n 42  new_vaccinations_smoothed_per_million  4961 non-null   float64\n 43  stringency_index                       62359 non-null  float64\n 44  population                             72778 non-null  float64\n 45  population_density                     68368 non-null  float64\n 46  median_age                             66478 non-null  float64\n 47  aged_65_older                          65712 non-null  float64\n 48  aged_70_older                          66103 non-null  float64\n 49  gdp_per_capita                         66676 non-null  float64\n 50  extreme_poverty                        45525 non-null  float64\n 51  cardiovasc_death_rate                  67321 non-null  float64\n 52  diabetes_prevalence                    68167 non-null  float64\n 53  female_smokers                         52930 non-null  float64\n 54  male_smokers                           52203 non-null  float64\n 55  handwashing_facilities                 33782 non-null  float64\n 56  hospital_beds_per_thousand             61629 non-null  float64\n 57  life_expectancy                        69534 non-null  float64\n 58  human_development_index                67260 non-null  float64\ndtypes: float64(54), object(5)\nmemory usage: 32.9+ MB\n"
     ]
    }
   ],
   "source": [
    "original_cases_data.info()"
   ]
  },
  {
   "cell_type": "code",
   "execution_count": 54,
   "metadata": {},
   "outputs": [
    {
     "output_type": "execute_result",
     "data": {
      "text/plain": [
       "iso_code                                     0\n",
       "continent                                 3625\n",
       "location                                     0\n",
       "date                                         0\n",
       "total_cases                               1054\n",
       "new_cases                                 1056\n",
       "new_cases_smoothed                        2057\n",
       "total_deaths                             10199\n",
       "new_deaths                               10041\n",
       "new_deaths_smoothed                       2057\n",
       "total_cases_per_million                   1448\n",
       "new_cases_per_million                     1450\n",
       "new_cases_smoothed_per_million            2446\n",
       "total_deaths_per_million                 10580\n",
       "new_deaths_per_million                   10422\n",
       "new_deaths_smoothed_per_million           2446\n",
       "reproduction_rate                        14249\n",
       "icu_patients                             65542\n",
       "icu_patients_per_million                 65542\n",
       "hosp_patients                            63996\n",
       "hosp_patients_per_million                63996\n",
       "weekly_icu_admissions                    72536\n",
       "weekly_icu_admissions_per_million        72536\n",
       "weekly_hosp_admissions                   71952\n",
       "weekly_hosp_admissions_per_million       71952\n",
       "new_tests                                40243\n",
       "total_tests                              40418\n",
       "total_tests_per_thousand                 40418\n",
       "new_tests_per_thousand                   40243\n",
       "new_tests_smoothed                       35603\n",
       "new_tests_smoothed_per_thousand          35603\n",
       "positive_rate                            36810\n",
       "tests_per_case                           37371\n",
       "tests_units                              34297\n",
       "total_vaccinations                       69877\n",
       "people_vaccinated                        70271\n",
       "people_fully_vaccinated                  71249\n",
       "new_vaccinations                         70397\n",
       "new_vaccinations_smoothed                68220\n",
       "total_vaccinations_per_hundred           69877\n",
       "people_vaccinated_per_hundred            70271\n",
       "people_fully_vaccinated_per_hundred      71249\n",
       "new_vaccinations_smoothed_per_million    68220\n",
       "stringency_index                         10822\n",
       "population                                 403\n",
       "population_density                        4813\n",
       "median_age                                6703\n",
       "aged_65_older                             7469\n",
       "aged_70_older                             7078\n",
       "gdp_per_capita                            6505\n",
       "extreme_poverty                          27656\n",
       "cardiovasc_death_rate                     5860\n",
       "diabetes_prevalence                       5014\n",
       "female_smokers                           20251\n",
       "male_smokers                             20978\n",
       "handwashing_facilities                   39399\n",
       "hospital_beds_per_thousand               11552\n",
       "life_expectancy                           3647\n",
       "human_development_index                   5921\n",
       "dtype: int64"
      ]
     },
     "metadata": {},
     "execution_count": 54
    }
   ],
   "source": [
    "original_cases_data.isna().sum()"
   ]
  },
  {
   "cell_type": "code",
   "execution_count": 55,
   "metadata": {},
   "outputs": [
    {
     "output_type": "execute_result",
     "data": {
      "text/plain": [
       "      iso_code      continent                  location        date  \\\n",
       "765        ALB         Europe                   Albania  2020-02-25   \n",
       "766        ALB         Europe                   Albania  2020-02-26   \n",
       "767        ALB         Europe                   Albania  2020-02-27   \n",
       "768        ALB         Europe                   Albania  2020-02-28   \n",
       "769        ALB         Europe                   Albania  2020-02-29   \n",
       "...        ...            ...                       ...         ...   \n",
       "67830      TCA  North America  Turks and Caicos Islands  2021-02-05   \n",
       "67831      TCA  North America  Turks and Caicos Islands  2021-02-06   \n",
       "67832      TCA  North America  Turks and Caicos Islands  2021-02-07   \n",
       "67833      TCA  North America  Turks and Caicos Islands  2021-02-08   \n",
       "69358      USA  North America             United States  2020-01-22   \n",
       "\n",
       "       total_cases  new_cases  new_cases_smoothed  total_deaths  new_deaths  \\\n",
       "765            NaN        NaN                 NaN           NaN         NaN   \n",
       "766            NaN        NaN                 NaN           NaN         NaN   \n",
       "767            NaN        NaN                 NaN           NaN         NaN   \n",
       "768            NaN        NaN                 NaN           NaN         NaN   \n",
       "769            NaN        NaN                 NaN           NaN         NaN   \n",
       "...            ...        ...                 ...           ...         ...   \n",
       "67830          NaN        NaN                 NaN           NaN         NaN   \n",
       "67831          NaN        NaN                 NaN           NaN         NaN   \n",
       "67832          NaN        NaN                 NaN           NaN         NaN   \n",
       "67833          NaN        NaN                 NaN           NaN         NaN   \n",
       "69358          1.0        NaN                 NaN           NaN         NaN   \n",
       "\n",
       "       new_deaths_smoothed  ...  gdp_per_capita  extreme_poverty  \\\n",
       "765                    NaN  ...       11803.431              1.1   \n",
       "766                    NaN  ...       11803.431              1.1   \n",
       "767                    NaN  ...       11803.431              1.1   \n",
       "768                    NaN  ...       11803.431              1.1   \n",
       "769                    NaN  ...       11803.431              1.1   \n",
       "...                    ...  ...             ...              ...   \n",
       "67830                  NaN  ...             NaN              NaN   \n",
       "67831                  NaN  ...             NaN              NaN   \n",
       "67832                  NaN  ...             NaN              NaN   \n",
       "67833                  NaN  ...             NaN              NaN   \n",
       "69358                  NaN  ...       54225.446              1.2   \n",
       "\n",
       "       cardiovasc_death_rate  diabetes_prevalence  female_smokers  \\\n",
       "765                  304.195                10.08             7.1   \n",
       "766                  304.195                10.08             7.1   \n",
       "767                  304.195                10.08             7.1   \n",
       "768                  304.195                10.08             7.1   \n",
       "769                  304.195                10.08             7.1   \n",
       "...                      ...                  ...             ...   \n",
       "67830                    NaN                  NaN             NaN   \n",
       "67831                    NaN                  NaN             NaN   \n",
       "67832                    NaN                  NaN             NaN   \n",
       "67833                    NaN                  NaN             NaN   \n",
       "69358                151.089                10.79            19.1   \n",
       "\n",
       "       male_smokers  handwashing_facilities  hospital_beds_per_thousand  \\\n",
       "765            51.2                     NaN                        2.89   \n",
       "766            51.2                     NaN                        2.89   \n",
       "767            51.2                     NaN                        2.89   \n",
       "768            51.2                     NaN                        2.89   \n",
       "769            51.2                     NaN                        2.89   \n",
       "...             ...                     ...                         ...   \n",
       "67830           NaN                     NaN                         NaN   \n",
       "67831           NaN                     NaN                         NaN   \n",
       "67832           NaN                     NaN                         NaN   \n",
       "67833           NaN                     NaN                         NaN   \n",
       "69358          24.6                     NaN                        2.77   \n",
       "\n",
       "       life_expectancy  human_development_index  \n",
       "765              78.57                    0.795  \n",
       "766              78.57                    0.795  \n",
       "767              78.57                    0.795  \n",
       "768              78.57                    0.795  \n",
       "769              78.57                    0.795  \n",
       "...                ...                      ...  \n",
       "67830            80.22                      NaN  \n",
       "67831            80.22                      NaN  \n",
       "67832            80.22                      NaN  \n",
       "67833            80.22                      NaN  \n",
       "69358            78.86                    0.926  \n",
       "\n",
       "[1450 rows x 59 columns]"
      ],
      "text/html": "<div>\n<style scoped>\n    .dataframe tbody tr th:only-of-type {\n        vertical-align: middle;\n    }\n\n    .dataframe tbody tr th {\n        vertical-align: top;\n    }\n\n    .dataframe thead th {\n        text-align: right;\n    }\n</style>\n<table border=\"1\" class=\"dataframe\">\n  <thead>\n    <tr style=\"text-align: right;\">\n      <th></th>\n      <th>iso_code</th>\n      <th>continent</th>\n      <th>location</th>\n      <th>date</th>\n      <th>total_cases</th>\n      <th>new_cases</th>\n      <th>new_cases_smoothed</th>\n      <th>total_deaths</th>\n      <th>new_deaths</th>\n      <th>new_deaths_smoothed</th>\n      <th>...</th>\n      <th>gdp_per_capita</th>\n      <th>extreme_poverty</th>\n      <th>cardiovasc_death_rate</th>\n      <th>diabetes_prevalence</th>\n      <th>female_smokers</th>\n      <th>male_smokers</th>\n      <th>handwashing_facilities</th>\n      <th>hospital_beds_per_thousand</th>\n      <th>life_expectancy</th>\n      <th>human_development_index</th>\n    </tr>\n  </thead>\n  <tbody>\n    <tr>\n      <th>765</th>\n      <td>ALB</td>\n      <td>Europe</td>\n      <td>Albania</td>\n      <td>2020-02-25</td>\n      <td>NaN</td>\n      <td>NaN</td>\n      <td>NaN</td>\n      <td>NaN</td>\n      <td>NaN</td>\n      <td>NaN</td>\n      <td>...</td>\n      <td>11803.431</td>\n      <td>1.1</td>\n      <td>304.195</td>\n      <td>10.08</td>\n      <td>7.1</td>\n      <td>51.2</td>\n      <td>NaN</td>\n      <td>2.89</td>\n      <td>78.57</td>\n      <td>0.795</td>\n    </tr>\n    <tr>\n      <th>766</th>\n      <td>ALB</td>\n      <td>Europe</td>\n      <td>Albania</td>\n      <td>2020-02-26</td>\n      <td>NaN</td>\n      <td>NaN</td>\n      <td>NaN</td>\n      <td>NaN</td>\n      <td>NaN</td>\n      <td>NaN</td>\n      <td>...</td>\n      <td>11803.431</td>\n      <td>1.1</td>\n      <td>304.195</td>\n      <td>10.08</td>\n      <td>7.1</td>\n      <td>51.2</td>\n      <td>NaN</td>\n      <td>2.89</td>\n      <td>78.57</td>\n      <td>0.795</td>\n    </tr>\n    <tr>\n      <th>767</th>\n      <td>ALB</td>\n      <td>Europe</td>\n      <td>Albania</td>\n      <td>2020-02-27</td>\n      <td>NaN</td>\n      <td>NaN</td>\n      <td>NaN</td>\n      <td>NaN</td>\n      <td>NaN</td>\n      <td>NaN</td>\n      <td>...</td>\n      <td>11803.431</td>\n      <td>1.1</td>\n      <td>304.195</td>\n      <td>10.08</td>\n      <td>7.1</td>\n      <td>51.2</td>\n      <td>NaN</td>\n      <td>2.89</td>\n      <td>78.57</td>\n      <td>0.795</td>\n    </tr>\n    <tr>\n      <th>768</th>\n      <td>ALB</td>\n      <td>Europe</td>\n      <td>Albania</td>\n      <td>2020-02-28</td>\n      <td>NaN</td>\n      <td>NaN</td>\n      <td>NaN</td>\n      <td>NaN</td>\n      <td>NaN</td>\n      <td>NaN</td>\n      <td>...</td>\n      <td>11803.431</td>\n      <td>1.1</td>\n      <td>304.195</td>\n      <td>10.08</td>\n      <td>7.1</td>\n      <td>51.2</td>\n      <td>NaN</td>\n      <td>2.89</td>\n      <td>78.57</td>\n      <td>0.795</td>\n    </tr>\n    <tr>\n      <th>769</th>\n      <td>ALB</td>\n      <td>Europe</td>\n      <td>Albania</td>\n      <td>2020-02-29</td>\n      <td>NaN</td>\n      <td>NaN</td>\n      <td>NaN</td>\n      <td>NaN</td>\n      <td>NaN</td>\n      <td>NaN</td>\n      <td>...</td>\n      <td>11803.431</td>\n      <td>1.1</td>\n      <td>304.195</td>\n      <td>10.08</td>\n      <td>7.1</td>\n      <td>51.2</td>\n      <td>NaN</td>\n      <td>2.89</td>\n      <td>78.57</td>\n      <td>0.795</td>\n    </tr>\n    <tr>\n      <th>...</th>\n      <td>...</td>\n      <td>...</td>\n      <td>...</td>\n      <td>...</td>\n      <td>...</td>\n      <td>...</td>\n      <td>...</td>\n      <td>...</td>\n      <td>...</td>\n      <td>...</td>\n      <td>...</td>\n      <td>...</td>\n      <td>...</td>\n      <td>...</td>\n      <td>...</td>\n      <td>...</td>\n      <td>...</td>\n      <td>...</td>\n      <td>...</td>\n      <td>...</td>\n      <td>...</td>\n    </tr>\n    <tr>\n      <th>67830</th>\n      <td>TCA</td>\n      <td>North America</td>\n      <td>Turks and Caicos Islands</td>\n      <td>2021-02-05</td>\n      <td>NaN</td>\n      <td>NaN</td>\n      <td>NaN</td>\n      <td>NaN</td>\n      <td>NaN</td>\n      <td>NaN</td>\n      <td>...</td>\n      <td>NaN</td>\n      <td>NaN</td>\n      <td>NaN</td>\n      <td>NaN</td>\n      <td>NaN</td>\n      <td>NaN</td>\n      <td>NaN</td>\n      <td>NaN</td>\n      <td>80.22</td>\n      <td>NaN</td>\n    </tr>\n    <tr>\n      <th>67831</th>\n      <td>TCA</td>\n      <td>North America</td>\n      <td>Turks and Caicos Islands</td>\n      <td>2021-02-06</td>\n      <td>NaN</td>\n      <td>NaN</td>\n      <td>NaN</td>\n      <td>NaN</td>\n      <td>NaN</td>\n      <td>NaN</td>\n      <td>...</td>\n      <td>NaN</td>\n      <td>NaN</td>\n      <td>NaN</td>\n      <td>NaN</td>\n      <td>NaN</td>\n      <td>NaN</td>\n      <td>NaN</td>\n      <td>NaN</td>\n      <td>80.22</td>\n      <td>NaN</td>\n    </tr>\n    <tr>\n      <th>67832</th>\n      <td>TCA</td>\n      <td>North America</td>\n      <td>Turks and Caicos Islands</td>\n      <td>2021-02-07</td>\n      <td>NaN</td>\n      <td>NaN</td>\n      <td>NaN</td>\n      <td>NaN</td>\n      <td>NaN</td>\n      <td>NaN</td>\n      <td>...</td>\n      <td>NaN</td>\n      <td>NaN</td>\n      <td>NaN</td>\n      <td>NaN</td>\n      <td>NaN</td>\n      <td>NaN</td>\n      <td>NaN</td>\n      <td>NaN</td>\n      <td>80.22</td>\n      <td>NaN</td>\n    </tr>\n    <tr>\n      <th>67833</th>\n      <td>TCA</td>\n      <td>North America</td>\n      <td>Turks and Caicos Islands</td>\n      <td>2021-02-08</td>\n      <td>NaN</td>\n      <td>NaN</td>\n      <td>NaN</td>\n      <td>NaN</td>\n      <td>NaN</td>\n      <td>NaN</td>\n      <td>...</td>\n      <td>NaN</td>\n      <td>NaN</td>\n      <td>NaN</td>\n      <td>NaN</td>\n      <td>NaN</td>\n      <td>NaN</td>\n      <td>NaN</td>\n      <td>NaN</td>\n      <td>80.22</td>\n      <td>NaN</td>\n    </tr>\n    <tr>\n      <th>69358</th>\n      <td>USA</td>\n      <td>North America</td>\n      <td>United States</td>\n      <td>2020-01-22</td>\n      <td>1.0</td>\n      <td>NaN</td>\n      <td>NaN</td>\n      <td>NaN</td>\n      <td>NaN</td>\n      <td>NaN</td>\n      <td>...</td>\n      <td>54225.446</td>\n      <td>1.2</td>\n      <td>151.089</td>\n      <td>10.79</td>\n      <td>19.1</td>\n      <td>24.6</td>\n      <td>NaN</td>\n      <td>2.77</td>\n      <td>78.86</td>\n      <td>0.926</td>\n    </tr>\n  </tbody>\n</table>\n<p>1450 rows × 59 columns</p>\n</div>"
     },
     "metadata": {},
     "execution_count": 55
    }
   ],
   "source": [
    "covid_cases_features = ['iso_code','location','date']\n",
    "original_cases_data[original_cases_data['new_cases_per_million'].isna()]"
   ]
  },
  {
   "cell_type": "code",
   "execution_count": 56,
   "metadata": {},
   "outputs": [
    {
     "output_type": "execute_result",
     "data": {
      "text/plain": [
       "iso_code                                  object\n",
       "continent                                 object\n",
       "location                                  object\n",
       "date                                      object\n",
       "total_cases                              float64\n",
       "new_cases                                float64\n",
       "new_cases_smoothed                       float64\n",
       "total_deaths                             float64\n",
       "new_deaths                               float64\n",
       "new_deaths_smoothed                      float64\n",
       "total_cases_per_million                  float64\n",
       "new_cases_per_million                    float64\n",
       "new_cases_smoothed_per_million           float64\n",
       "total_deaths_per_million                 float64\n",
       "new_deaths_per_million                   float64\n",
       "new_deaths_smoothed_per_million          float64\n",
       "reproduction_rate                        float64\n",
       "icu_patients                             float64\n",
       "icu_patients_per_million                 float64\n",
       "hosp_patients                            float64\n",
       "hosp_patients_per_million                float64\n",
       "weekly_icu_admissions                    float64\n",
       "weekly_icu_admissions_per_million        float64\n",
       "weekly_hosp_admissions                   float64\n",
       "weekly_hosp_admissions_per_million       float64\n",
       "new_tests                                float64\n",
       "total_tests                              float64\n",
       "total_tests_per_thousand                 float64\n",
       "new_tests_per_thousand                   float64\n",
       "new_tests_smoothed                       float64\n",
       "new_tests_smoothed_per_thousand          float64\n",
       "positive_rate                            float64\n",
       "tests_per_case                           float64\n",
       "tests_units                               object\n",
       "total_vaccinations                       float64\n",
       "people_vaccinated                        float64\n",
       "people_fully_vaccinated                  float64\n",
       "new_vaccinations                         float64\n",
       "new_vaccinations_smoothed                float64\n",
       "total_vaccinations_per_hundred           float64\n",
       "people_vaccinated_per_hundred            float64\n",
       "people_fully_vaccinated_per_hundred      float64\n",
       "new_vaccinations_smoothed_per_million    float64\n",
       "stringency_index                         float64\n",
       "population                               float64\n",
       "population_density                       float64\n",
       "median_age                               float64\n",
       "aged_65_older                            float64\n",
       "aged_70_older                            float64\n",
       "gdp_per_capita                           float64\n",
       "extreme_poverty                          float64\n",
       "cardiovasc_death_rate                    float64\n",
       "diabetes_prevalence                      float64\n",
       "female_smokers                           float64\n",
       "male_smokers                             float64\n",
       "handwashing_facilities                   float64\n",
       "hospital_beds_per_thousand               float64\n",
       "life_expectancy                          float64\n",
       "human_development_index                  float64\n",
       "dtype: object"
      ]
     },
     "metadata": {},
     "execution_count": 56
    }
   ],
   "source": [
    "original_cases_data.dtypes"
   ]
  },
  {
   "source": [
    "## Data preprocessing\n",
    "### Iso Map (Used for tranform 2 letter iso codes into 3 letter iso codes)"
   ],
   "cell_type": "markdown",
   "metadata": {}
  },
  {
   "cell_type": "code",
   "execution_count": 57,
   "metadata": {},
   "outputs": [],
   "source": [
    "iso_map = original_iso_map[[\"Alpha-2 code\",\"Alpha-3 code\"]]\n",
    "iso_map = iso_map.applymap(lambda x: x.replace('\"','').replace(' ',''))\n",
    "iso_map.set_index(\"Alpha-2 code\",inplace=True)\n",
    "iso_map = iso_map.squeeze() #Transform into a series"
   ]
  },
  {
   "source": [
    "### Moblity Dataset"
   ],
   "cell_type": "markdown",
   "metadata": {}
  },
  {
   "cell_type": "code",
   "execution_count": 62,
   "metadata": {},
   "outputs": [],
   "source": [
    "mobility_features = [\n",
    "    'retail_and_recreation_percent_change_from_baseline',\n",
    "    'grocery_and_pharmacy_percent_change_from_baseline',\n",
    "    'parks_percent_change_from_baseline',\n",
    "    'transit_stations_percent_change_from_baseline',\n",
    "    'workplaces_percent_change_from_baseline',\n",
    "    'residential_percent_change_from_baseline',\n",
    "    'date',\n",
    "    'place_id',\n",
    "    'country_region',\n",
    "    'country_region_code'\n",
    "    ]\n",
    "\n",
    "impute_need_features = [\n",
    "    'retail_and_recreation_percent_change_from_baseline',\n",
    "    'grocery_and_pharmacy_percent_change_from_baseline',\n",
    "    'parks_percent_change_from_baseline',\n",
    "    'transit_stations_percent_change_from_baseline',\n",
    "    'workplaces_percent_change_from_baseline',\n",
    "    'residential_percent_change_from_baseline'\n",
    "]\n",
    "\n",
    "mobility_data = original_mobility_data[original_mobility_data['sub_region_1'].isna()] #Get only country data\n",
    "mobility_data = mobility_data[mobility_data['metro_area'].isna()]\n",
    "mobility_data = mobility_data[mobility_features] #Get only important data features\n",
    "\n",
    "#Replace all nan values by NA which are from Namibia (NA is namibia country code) and Replace 2 letter iso code for 3 letter iso code\n",
    "mobility_data['country_region_code'] = mobility_data['country_region_code'].fillna('NA').map(iso_map.to_dict())\n",
    "\n",
    "mobility_data['date'] = pd.to_datetime(mobility_data['date'])\n",
    "mobility_data.rename(columns={'country_region_code':'iso_code'},inplace=True)\n",
    "mobility_data.reset_index(inplace=True,drop=True)\n",
    "\n",
    "#Impute missing values with knn imputer\n",
    "#All variables use the same scale so there is no need for scalling\n",
    "imputer = KNNImputer(n_neighbors=5)\n",
    "imputed_data = pd.DataFrame(imputer.fit_transform(mobility_data[impute_need_features]),columns = impute_need_features)\n",
    "mobility_data[impute_need_features] = imputed_data\n",
    "mobility_data.join\n",
    "mobility_data = mobility_data.set_index(['iso_code','date'])\n",
    "\n"
   ]
  },
  {
   "source": [
    "### Covid cases dataset"
   ],
   "cell_type": "markdown",
   "metadata": {}
  },
  {
   "cell_type": "code",
   "execution_count": 63,
   "metadata": {},
   "outputs": [],
   "source": [
    "covid_cases_features = ['iso_code','date','new_cases_per_million','new_cases','new_deaths','new_deaths_per_million']\n",
    "\n",
    "country_remove = ['BMU','CYM','GIB','GGY','HKG','JEY','TCA','OWID_AFR','OWID_EUR','OWID_EUN','OWID_OCE','OWID_SAM','LSO']\n",
    "\n",
    "cases_data = original_cases_data[~original_cases_data['iso_code'].isin(country_remove)]#remove countrys with wrong data\n",
    "cases_data = cases_data[covid_cases_features] #Select only usefull features\n",
    "cases_data.fillna(0,inplace=True) #All missing values are 0's based on fast analysises on excel\n",
    "cases_data['date'] = pd.to_datetime(cases_data['date'])\n",
    "cases_data.reset_index(inplace=True,drop=True)\n",
    "cases_data = cases_data.set_index(['iso_code','date'])\n",
    "\n",
    "\n"
   ]
  },
  {
   "source": [
    "## Join Dataset"
   ],
   "cell_type": "markdown",
   "metadata": {}
  },
  {
   "cell_type": "code",
   "execution_count": 64,
   "metadata": {},
   "outputs": [],
   "source": [
    "global_dataset = mobility_data.join(cases_data,how='left')\n",
    "global_dataset.dropna(inplace=True)"
   ]
  },
  {
   "cell_type": "code",
   "execution_count": 65,
   "metadata": {},
   "outputs": [],
   "source": [
    "\n",
    "#Convert place ids into longitude and latitude( Google api key is needed )\n",
    "gmaps = googlemaps.Client(key='Your api key')\n",
    "def getLocationArr(arrLoc):\n",
    "    locs = {}\n",
    "    for loc in arrLoc:\n",
    "        geocode_result = gmaps.reverse_geocode(loc)\n",
    "        location = geocode_result[0]['geometry']['location']\n",
    "        locs[loc] = location\n",
    "    return locs\n",
    "\n",
    "locations = getLocationArr(global_dataset[\"place_id\"].unique())\n"
   ]
  },
  {
   "cell_type": "code",
   "execution_count": 66,
   "metadata": {},
   "outputs": [],
   "source": [
    "#Joins the latitude and longitude in a dataframe and save it\n",
    "lat = []\n",
    "lng = []\n",
    "locs = locations.keys()\n",
    "for each in locs:\n",
    "    lat.append(locations[each]['lat'])\n",
    "    lng.append(locations[each]['lng'])\n",
    "\n",
    "df = pd.DataFrame({'latitude':lat,'longitude':lng},index=locs)\n",
    "df.index.rename('place_id',inplace=True)\n",
    "df.to_csv(\"locations_map.csv\")\n",
    "\n"
   ]
  },
  {
   "cell_type": "code",
   "execution_count": 74,
   "metadata": {},
   "outputs": [
    {
     "output_type": "execute_result",
     "data": {
      "text/plain": [
       "Empty DataFrame\n",
       "Columns: [retail_and_recreation_percent_change_from_baseline, grocery_and_pharmacy_percent_change_from_baseline, parks_percent_change_from_baseline, transit_stations_percent_change_from_baseline, workplaces_percent_change_from_baseline, residential_percent_change_from_baseline, country_region, new_cases_per_million, new_cases, new_deaths, new_deaths_per_million, latitude, longitude]\n",
       "Index: []"
      ],
      "text/html": "<div>\n<style scoped>\n    .dataframe tbody tr th:only-of-type {\n        vertical-align: middle;\n    }\n\n    .dataframe tbody tr th {\n        vertical-align: top;\n    }\n\n    .dataframe thead th {\n        text-align: right;\n    }\n</style>\n<table border=\"1\" class=\"dataframe\">\n  <thead>\n    <tr style=\"text-align: right;\">\n      <th></th>\n      <th></th>\n      <th>retail_and_recreation_percent_change_from_baseline</th>\n      <th>grocery_and_pharmacy_percent_change_from_baseline</th>\n      <th>parks_percent_change_from_baseline</th>\n      <th>transit_stations_percent_change_from_baseline</th>\n      <th>workplaces_percent_change_from_baseline</th>\n      <th>residential_percent_change_from_baseline</th>\n      <th>country_region</th>\n      <th>new_cases_per_million</th>\n      <th>new_cases</th>\n      <th>new_deaths</th>\n      <th>new_deaths_per_million</th>\n      <th>latitude</th>\n      <th>longitude</th>\n    </tr>\n    <tr>\n      <th>iso_code</th>\n      <th>date</th>\n      <th></th>\n      <th></th>\n      <th></th>\n      <th></th>\n      <th></th>\n      <th></th>\n      <th></th>\n      <th></th>\n      <th></th>\n      <th></th>\n      <th></th>\n      <th></th>\n      <th></th>\n    </tr>\n  </thead>\n  <tbody>\n  </tbody>\n</table>\n</div>"
     },
     "metadata": {},
     "execution_count": 74
    }
   ],
   "source": [
    "#export final datasets\n",
    "#global_dataset = global_dataset.join(df,on='place_id').drop(columns=\"place_id\")\n",
    "path = 'extra'\n",
    "if not os.path.exists(path):\n",
    "    os.mkdir(path)\n",
    "\n",
    "df.to_csv(os.path.join(path, \"locations_map.csv\"))\n",
    "global_dataset.to_csv(\"Final_Dataset.csv\")\n",
    "cases_data.to_csv(os.path.join(path, \"cases.csv\"))\n",
    "mobility_data.to_csv(os.path.join(path, \"movement.csv\"))\n",
    "iso_map.to_csv(os.path.join(path, \"iso_map.csv\"))\n",
    "global_dataset[global_dataset.isna().any(axis=1)]\n"
   ]
  },
  {
   "cell_type": "code",
   "execution_count": 77,
   "metadata": {},
   "outputs": [
    {
     "output_type": "display_data",
     "data": {
      "text/plain": "HBox(children=(HTML(value='Summarize dataset'), FloatProgress(value=0.0, max=28.0), HTML(value='')))",
      "application/vnd.jupyter.widget-view+json": {
       "version_major": 2,
       "version_minor": 0,
       "model_id": "9fd6d331b4a64f1e99057014b1a63d24"
      }
     },
     "metadata": {}
    },
    {
     "output_type": "stream",
     "name": "stdout",
     "text": [
      "\n"
     ]
    },
    {
     "output_type": "display_data",
     "data": {
      "text/plain": "HBox(children=(HTML(value='Generate report structure'), FloatProgress(value=0.0, max=1.0), HTML(value='')))",
      "application/vnd.jupyter.widget-view+json": {
       "version_major": 2,
       "version_minor": 0,
       "model_id": "6ab49bfb1c054cc19b7bd12ddba3a695"
      }
     },
     "metadata": {}
    },
    {
     "output_type": "stream",
     "name": "stdout",
     "text": [
      "\n"
     ]
    },
    {
     "output_type": "display_data",
     "data": {
      "text/plain": "HBox(children=(HTML(value='Render HTML'), FloatProgress(value=0.0, max=1.0), HTML(value='')))",
      "application/vnd.jupyter.widget-view+json": {
       "version_major": 2,
       "version_minor": 0,
       "model_id": "20a483b09c674126b1d3acc43c554132"
      }
     },
     "metadata": {}
    },
    {
     "output_type": "stream",
     "name": "stdout",
     "text": [
      "\n"
     ]
    },
    {
     "output_type": "display_data",
     "data": {
      "text/plain": "HBox(children=(HTML(value='Export report to file'), FloatProgress(value=0.0, max=1.0), HTML(value='')))",
      "application/vnd.jupyter.widget-view+json": {
       "version_major": 2,
       "version_minor": 0,
       "model_id": "0e2cf8c423444fb8ae1796869dba376f"
      }
     },
     "metadata": {}
    },
    {
     "output_type": "stream",
     "name": "stdout",
     "text": [
      "\n"
     ]
    },
    {
     "output_type": "display_data",
     "data": {
      "text/plain": "HBox(children=(HTML(value='Summarize dataset'), FloatProgress(value=0.0, max=19.0), HTML(value='')))",
      "application/vnd.jupyter.widget-view+json": {
       "version_major": 2,
       "version_minor": 0,
       "model_id": "6b93db01607d4d16ab732f232ae8f6fd"
      }
     },
     "metadata": {}
    },
    {
     "output_type": "stream",
     "name": "stdout",
     "text": [
      "\n"
     ]
    },
    {
     "output_type": "display_data",
     "data": {
      "text/plain": "HBox(children=(HTML(value='Generate report structure'), FloatProgress(value=0.0, max=1.0), HTML(value='')))",
      "application/vnd.jupyter.widget-view+json": {
       "version_major": 2,
       "version_minor": 0,
       "model_id": "9ea5b1fd88454346a5c6e42e266470ec"
      }
     },
     "metadata": {}
    },
    {
     "output_type": "stream",
     "name": "stdout",
     "text": [
      "\n"
     ]
    },
    {
     "output_type": "display_data",
     "data": {
      "text/plain": "HBox(children=(HTML(value='Render HTML'), FloatProgress(value=0.0, max=1.0), HTML(value='')))",
      "application/vnd.jupyter.widget-view+json": {
       "version_major": 2,
       "version_minor": 0,
       "model_id": "90184a27352042adad805f31e58cd432"
      }
     },
     "metadata": {}
    },
    {
     "output_type": "stream",
     "name": "stdout",
     "text": [
      "\n"
     ]
    },
    {
     "output_type": "display_data",
     "data": {
      "text/plain": "HBox(children=(HTML(value='Export report to file'), FloatProgress(value=0.0, max=1.0), HTML(value='')))",
      "application/vnd.jupyter.widget-view+json": {
       "version_major": 2,
       "version_minor": 0,
       "model_id": "9b5182c45d254d6ebd2bb83cf0d09563"
      }
     },
     "metadata": {}
    },
    {
     "output_type": "stream",
     "name": "stdout",
     "text": [
      "\n"
     ]
    },
    {
     "output_type": "display_data",
     "data": {
      "text/plain": "HBox(children=(HTML(value='Summarize dataset'), FloatProgress(value=0.0, max=23.0), HTML(value='')))",
      "application/vnd.jupyter.widget-view+json": {
       "version_major": 2,
       "version_minor": 0,
       "model_id": "d2628504c6154de9863ece21dad27e3f"
      }
     },
     "metadata": {}
    },
    {
     "output_type": "stream",
     "name": "stdout",
     "text": [
      "\n"
     ]
    },
    {
     "output_type": "display_data",
     "data": {
      "text/plain": "HBox(children=(HTML(value='Generate report structure'), FloatProgress(value=0.0, max=1.0), HTML(value='')))",
      "application/vnd.jupyter.widget-view+json": {
       "version_major": 2,
       "version_minor": 0,
       "model_id": "e75114d9a3fe4f71a483e6906fe1a433"
      }
     },
     "metadata": {}
    },
    {
     "output_type": "stream",
     "name": "stdout",
     "text": [
      "\n"
     ]
    },
    {
     "output_type": "display_data",
     "data": {
      "text/plain": "HBox(children=(HTML(value='Render HTML'), FloatProgress(value=0.0, max=1.0), HTML(value='')))",
      "application/vnd.jupyter.widget-view+json": {
       "version_major": 2,
       "version_minor": 0,
       "model_id": "52b5a071cc1349cfb03e73a8f1983c5b"
      }
     },
     "metadata": {}
    },
    {
     "output_type": "stream",
     "name": "stdout",
     "text": [
      "\n"
     ]
    },
    {
     "output_type": "display_data",
     "data": {
      "text/plain": "HBox(children=(HTML(value='Export report to file'), FloatProgress(value=0.0, max=1.0), HTML(value='')))",
      "application/vnd.jupyter.widget-view+json": {
       "version_major": 2,
       "version_minor": 0,
       "model_id": "4cf4b91621af407f87485a3766bff959"
      }
     },
     "metadata": {}
    },
    {
     "output_type": "stream",
     "name": "stdout",
     "text": [
      "\n"
     ]
    },
    {
     "output_type": "execute_result",
     "data": {
      "text/plain": [
       "            retail_and_recreation_percent_change_from_baseline  \\\n",
       "date                                                             \n",
       "2020-02-15                                               -9.0    \n",
       "2020-02-16                                                3.0    \n",
       "2020-02-17                                                6.0    \n",
       "2020-02-18                                                3.0    \n",
       "2020-02-19                                               -1.0    \n",
       "...                                                       ...    \n",
       "2021-02-26                                               20.0    \n",
       "2021-02-27                                               19.0    \n",
       "2021-02-28                                               41.0    \n",
       "2021-03-01                                               43.0    \n",
       "2021-03-02                                               36.0    \n",
       "\n",
       "            grocery_and_pharmacy_percent_change_from_baseline  \\\n",
       "date                                                            \n",
       "2020-02-15                                              -10.0   \n",
       "2020-02-16                                               11.0   \n",
       "2020-02-17                                               11.0   \n",
       "2020-02-18                                                5.0   \n",
       "2020-02-19                                                3.0   \n",
       "...                                                       ...   \n",
       "2021-02-26                                               52.0   \n",
       "2021-02-27                                               27.0   \n",
       "2021-02-28                                               85.0   \n",
       "2021-03-01                                               77.0   \n",
       "2021-03-02                                               68.0   \n",
       "\n",
       "            parks_percent_change_from_baseline  \\\n",
       "date                                             \n",
       "2020-02-15                                 0.0   \n",
       "2020-02-16                                 1.0   \n",
       "2020-02-17                                 2.0   \n",
       "2020-02-18                                 3.0   \n",
       "2020-02-19                                 1.0   \n",
       "...                                        ...   \n",
       "2021-02-26                               -11.0   \n",
       "2021-02-27                                 1.0   \n",
       "2021-02-28                                 5.0   \n",
       "2021-03-01                                 3.0   \n",
       "2021-03-02                                -1.0   \n",
       "\n",
       "            transit_stations_percent_change_from_baseline  \\\n",
       "date                                                        \n",
       "2020-02-15                                           -2.0   \n",
       "2020-02-16                                           10.0   \n",
       "2020-02-17                                            9.0   \n",
       "2020-02-18                                            9.0   \n",
       "2020-02-19                                            0.0   \n",
       "...                                                   ...   \n",
       "2021-02-26                                          -21.0   \n",
       "2021-02-27                                          -20.0   \n",
       "2021-02-28                                          -14.0   \n",
       "2021-03-01                                          -14.0   \n",
       "2021-03-02                                          -15.0   \n",
       "\n",
       "            workplaces_percent_change_from_baseline  \\\n",
       "date                                                  \n",
       "2020-02-15                                    -28.0   \n",
       "2020-02-16                                      4.0   \n",
       "2020-02-17                                      5.0   \n",
       "2020-02-18                                      6.0   \n",
       "2020-02-19                                      5.0   \n",
       "...                                             ...   \n",
       "2021-02-26                                    -19.0   \n",
       "2021-02-27                                     -6.0   \n",
       "2021-02-28                                     -1.0   \n",
       "2021-03-01                                      0.0   \n",
       "2021-03-02                                     -1.0   \n",
       "\n",
       "            residential_percent_change_from_baseline  \\\n",
       "date                                                   \n",
       "2020-02-15                                       5.0   \n",
       "2020-02-16                                       0.0   \n",
       "2020-02-17                                      -1.0   \n",
       "2020-02-18                                      -1.0   \n",
       "2020-02-19                                       1.0   \n",
       "...                                              ...   \n",
       "2021-02-26                                       0.0   \n",
       "2021-02-27                                       0.0   \n",
       "2021-02-28                                      -1.0   \n",
       "2021-03-01                                      -2.0   \n",
       "2021-03-02                                      -3.0   \n",
       "\n",
       "                               place_id country_region  \n",
       "date                                                    \n",
       "2020-02-15  ChIJbQL_-LZu0TgReNqWvg1GtfM    Afghanistan  \n",
       "2020-02-16  ChIJbQL_-LZu0TgReNqWvg1GtfM    Afghanistan  \n",
       "2020-02-17  ChIJbQL_-LZu0TgReNqWvg1GtfM    Afghanistan  \n",
       "2020-02-18  ChIJbQL_-LZu0TgReNqWvg1GtfM    Afghanistan  \n",
       "2020-02-19  ChIJbQL_-LZu0TgReNqWvg1GtfM    Afghanistan  \n",
       "...                                 ...            ...  \n",
       "2021-02-26  ChIJbQL_-LZu0TgReNqWvg1GtfM    Afghanistan  \n",
       "2021-02-27  ChIJbQL_-LZu0TgReNqWvg1GtfM    Afghanistan  \n",
       "2021-02-28  ChIJbQL_-LZu0TgReNqWvg1GtfM    Afghanistan  \n",
       "2021-03-01  ChIJbQL_-LZu0TgReNqWvg1GtfM    Afghanistan  \n",
       "2021-03-02  ChIJbQL_-LZu0TgReNqWvg1GtfM    Afghanistan  \n",
       "\n",
       "[337 rows x 8 columns]"
      ],
      "text/html": "<div>\n<style scoped>\n    .dataframe tbody tr th:only-of-type {\n        vertical-align: middle;\n    }\n\n    .dataframe tbody tr th {\n        vertical-align: top;\n    }\n\n    .dataframe thead th {\n        text-align: right;\n    }\n</style>\n<table border=\"1\" class=\"dataframe\">\n  <thead>\n    <tr style=\"text-align: right;\">\n      <th></th>\n      <th>retail_and_recreation_percent_change_from_baseline</th>\n      <th>grocery_and_pharmacy_percent_change_from_baseline</th>\n      <th>parks_percent_change_from_baseline</th>\n      <th>transit_stations_percent_change_from_baseline</th>\n      <th>workplaces_percent_change_from_baseline</th>\n      <th>residential_percent_change_from_baseline</th>\n      <th>place_id</th>\n      <th>country_region</th>\n    </tr>\n    <tr>\n      <th>date</th>\n      <th></th>\n      <th></th>\n      <th></th>\n      <th></th>\n      <th></th>\n      <th></th>\n      <th></th>\n      <th></th>\n    </tr>\n  </thead>\n  <tbody>\n    <tr>\n      <th>2020-02-15</th>\n      <td>-9.0</td>\n      <td>-10.0</td>\n      <td>0.0</td>\n      <td>-2.0</td>\n      <td>-28.0</td>\n      <td>5.0</td>\n      <td>ChIJbQL_-LZu0TgReNqWvg1GtfM</td>\n      <td>Afghanistan</td>\n    </tr>\n    <tr>\n      <th>2020-02-16</th>\n      <td>3.0</td>\n      <td>11.0</td>\n      <td>1.0</td>\n      <td>10.0</td>\n      <td>4.0</td>\n      <td>0.0</td>\n      <td>ChIJbQL_-LZu0TgReNqWvg1GtfM</td>\n      <td>Afghanistan</td>\n    </tr>\n    <tr>\n      <th>2020-02-17</th>\n      <td>6.0</td>\n      <td>11.0</td>\n      <td>2.0</td>\n      <td>9.0</td>\n      <td>5.0</td>\n      <td>-1.0</td>\n      <td>ChIJbQL_-LZu0TgReNqWvg1GtfM</td>\n      <td>Afghanistan</td>\n    </tr>\n    <tr>\n      <th>2020-02-18</th>\n      <td>3.0</td>\n      <td>5.0</td>\n      <td>3.0</td>\n      <td>9.0</td>\n      <td>6.0</td>\n      <td>-1.0</td>\n      <td>ChIJbQL_-LZu0TgReNqWvg1GtfM</td>\n      <td>Afghanistan</td>\n    </tr>\n    <tr>\n      <th>2020-02-19</th>\n      <td>-1.0</td>\n      <td>3.0</td>\n      <td>1.0</td>\n      <td>0.0</td>\n      <td>5.0</td>\n      <td>1.0</td>\n      <td>ChIJbQL_-LZu0TgReNqWvg1GtfM</td>\n      <td>Afghanistan</td>\n    </tr>\n    <tr>\n      <th>...</th>\n      <td>...</td>\n      <td>...</td>\n      <td>...</td>\n      <td>...</td>\n      <td>...</td>\n      <td>...</td>\n      <td>...</td>\n      <td>...</td>\n    </tr>\n    <tr>\n      <th>2021-02-26</th>\n      <td>20.0</td>\n      <td>52.0</td>\n      <td>-11.0</td>\n      <td>-21.0</td>\n      <td>-19.0</td>\n      <td>0.0</td>\n      <td>ChIJbQL_-LZu0TgReNqWvg1GtfM</td>\n      <td>Afghanistan</td>\n    </tr>\n    <tr>\n      <th>2021-02-27</th>\n      <td>19.0</td>\n      <td>27.0</td>\n      <td>1.0</td>\n      <td>-20.0</td>\n      <td>-6.0</td>\n      <td>0.0</td>\n      <td>ChIJbQL_-LZu0TgReNqWvg1GtfM</td>\n      <td>Afghanistan</td>\n    </tr>\n    <tr>\n      <th>2021-02-28</th>\n      <td>41.0</td>\n      <td>85.0</td>\n      <td>5.0</td>\n      <td>-14.0</td>\n      <td>-1.0</td>\n      <td>-1.0</td>\n      <td>ChIJbQL_-LZu0TgReNqWvg1GtfM</td>\n      <td>Afghanistan</td>\n    </tr>\n    <tr>\n      <th>2021-03-01</th>\n      <td>43.0</td>\n      <td>77.0</td>\n      <td>3.0</td>\n      <td>-14.0</td>\n      <td>0.0</td>\n      <td>-2.0</td>\n      <td>ChIJbQL_-LZu0TgReNqWvg1GtfM</td>\n      <td>Afghanistan</td>\n    </tr>\n    <tr>\n      <th>2021-03-02</th>\n      <td>36.0</td>\n      <td>68.0</td>\n      <td>-1.0</td>\n      <td>-15.0</td>\n      <td>-1.0</td>\n      <td>-3.0</td>\n      <td>ChIJbQL_-LZu0TgReNqWvg1GtfM</td>\n      <td>Afghanistan</td>\n    </tr>\n  </tbody>\n</table>\n<p>337 rows × 8 columns</p>\n</div>"
     },
     "metadata": {},
     "execution_count": 77
    }
   ],
   "source": [
    "ProfileReport(global_dataset).to_file(\"Final_Dataset.html\")\n",
    "ProfileReport(cases_data).to_file(os.path.join(path, \"cases.html\"))\n",
    "ProfileReport(mobility_data).to_file(os.path.join(path, \"movement.html\"))\n",
    "\n",
    "mobility_data.loc['AFG']"
   ]
  },
  {
   "cell_type": "code",
   "execution_count": null,
   "metadata": {},
   "outputs": [],
   "source": []
  }
 ]
}