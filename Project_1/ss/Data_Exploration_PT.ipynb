{
 "cells": [
  {
   "cell_type": "markdown",
   "metadata": {},
   "source": [
    "# Data Visualization\n",
    "# *Project 1*"
   ]
  },
  {
   "cell_type": "markdown",
   "metadata": {},
   "source": [
    "### Group AA\n",
    "Diana Furtado (m20200590@novaims.unl.pt); \n",
    "Hiromi Nakashima (m20201025@novaims.unl.pt); \n",
    "Miguel Martins (m20200671@novaims.unl.pt); \n",
    "Sofia Simão (m20200639@novaims.unl.pt)\n",
    "\n",
    "#### This project aims to analyse *AIRBNB* dataset and understand how COVID-19 impacted Lisbon's tourism\n"
   ]
  },
  {
   "cell_type": "markdown",
   "metadata": {},
   "source": [
    "*Dataset source*: http://insideairbnb.com/get-the-data.html\n"
   ]
  },
  {
   "cell_type": "code",
   "execution_count": 3,
   "metadata": {},
   "outputs": [],
   "source": [
    "#Import libraries \n",
    "import pandas as pd\n",
    "import numpy as np\n",
    "import scipy\n",
    "import sklearn\n",
    "import os\n",
    "import matplotlib.pyplot as plt\n",
    "import seaborn as sns\n",
    "from math import ceil\n",
    "import glob"
   ]
  },
  {
   "cell_type": "markdown",
   "metadata": {},
   "source": [
    "## AIRBNB Dataset"
   ]
  },
  {
   "cell_type": "markdown",
   "metadata": {},
   "source": [
    "### Data Exploration"
   ]
  },
  {
   "cell_type": "code",
   "execution_count": 4,
   "metadata": {},
   "outputs": [],
   "source": [
    "# Import all csv files and concatenate - Listings\n",
    "path = r'AIRBNB/listings' \n",
    "all_files = glob.glob(os.path.join(path, \"*.csv\")) \n",
    "\n",
    "df_from_each_file = (pd.read_csv(f) for f in all_files)\n",
    "listings = pd.concat(df_from_each_file, ignore_index=True)"
   ]
  },
  {
   "cell_type": "code",
   "execution_count": 5,
   "metadata": {},
   "outputs": [
    {
     "output_type": "execute_result",
     "data": {
      "text/plain": [
       "              id                                               name   host_id  \\\n",
       "0           6499               Belém 1 Bedroom Historical Apartment     14455   \n",
       "1          25659  Heart of Alfama  - Coeur d'Alfama - Lisbon Center    107347   \n",
       "2          29248           Apartamento Alfama com vista para o rio!    125768   \n",
       "3          29396                   Alfama Hill - Boutique apartment    126415   \n",
       "4          29915                Modern and Cool Apartment in Lisboa    128890   \n",
       "...          ...                                                ...       ...   \n",
       "507591  45505941   Stylish & Quiet Room with PrivateWC- Alameda IST  23266121   \n",
       "507592  45506121   Stylish & Spacious Room w PrivateWC- Alameda IST  23266121   \n",
       "507593  45506284    Queen Bed w Balcony & PrivateWc - Alameda (IST)  23266121   \n",
       "507594  45506608  Quiet & Comfortable room w PrivateWC - Alameda...  23266121   \n",
       "507595  45506858  Stylish UpperSuite Balcony PrivateWC- Alameda IST  23266121   \n",
       "\n",
       "                host_name neighbourhood_group      neighbourhood   latitude  \\\n",
       "0                   Bruno              Lisboa               Belm  38.697500   \n",
       "1                   Ellie              Lisboa  Santa Maria Maior  38.711670   \n",
       "2                 Bárbara              Lisboa  Santa Maria Maior  38.712720   \n",
       "3                  Mónica              Lisboa  Santa Maria Maior  38.712390   \n",
       "4                    Sara              Lisboa     Avenidas Novas  38.747120   \n",
       "...                   ...                 ...                ...        ...   \n",
       "507591  Joana & Francisco              Lisboa            Arroios  38.736281   \n",
       "507592  Joana & Francisco              Lisboa            Arroios  38.735840   \n",
       "507593  Joana & Francisco              Lisboa            Arroios  38.735527   \n",
       "507594  Joana & Francisco              Lisboa            Arroios  38.735527   \n",
       "507595  Joana & Francisco              Lisboa            Arroios  38.736630   \n",
       "\n",
       "        longitude        room_type  price  minimum_nights  number_of_reviews  \\\n",
       "0       -9.197680  Entire home/apt     79               3                 26   \n",
       "1       -9.126960  Entire home/apt     45               3                113   \n",
       "2       -9.126280  Entire home/apt     43               1                322   \n",
       "3       -9.128870  Entire home/apt     44               2                247   \n",
       "4       -9.152860  Entire home/apt     48               5                 37   \n",
       "...           ...              ...    ...             ...                ...   \n",
       "507591  -9.131548     Private room     45              30                  0   \n",
       "507592  -9.133190     Private room     45              30                  0   \n",
       "507593  -9.132067     Private room     50              30                  0   \n",
       "507594  -9.132067     Private room     45              29                  0   \n",
       "507595  -9.132290     Private room     69              29                  0   \n",
       "\n",
       "       last_review  reviews_per_month  calculated_host_listings_count  \\\n",
       "0       2020-01-03               0.36                               1   \n",
       "1       2019-12-08               1.46                               1   \n",
       "2       2020-06-14               2.74                               1   \n",
       "3       2020-08-23               2.45                               2   \n",
       "4       2020-01-21               0.30                               1   \n",
       "...            ...                ...                             ...   \n",
       "507591         NaN                NaN                               6   \n",
       "507592         NaN                NaN                               6   \n",
       "507593         NaN                NaN                               6   \n",
       "507594         NaN                NaN                               6   \n",
       "507595         NaN                NaN                               6   \n",
       "\n",
       "        availability_365  \n",
       "0                    242  \n",
       "1                    365  \n",
       "2                    329  \n",
       "3                    331  \n",
       "4                    293  \n",
       "...                  ...  \n",
       "507591                 0  \n",
       "507592                 0  \n",
       "507593                 0  \n",
       "507594               262  \n",
       "507595               264  \n",
       "\n",
       "[507596 rows x 16 columns]"
      ],
      "text/html": "<div>\n<style scoped>\n    .dataframe tbody tr th:only-of-type {\n        vertical-align: middle;\n    }\n\n    .dataframe tbody tr th {\n        vertical-align: top;\n    }\n\n    .dataframe thead th {\n        text-align: right;\n    }\n</style>\n<table border=\"1\" class=\"dataframe\">\n  <thead>\n    <tr style=\"text-align: right;\">\n      <th></th>\n      <th>id</th>\n      <th>name</th>\n      <th>host_id</th>\n      <th>host_name</th>\n      <th>neighbourhood_group</th>\n      <th>neighbourhood</th>\n      <th>latitude</th>\n      <th>longitude</th>\n      <th>room_type</th>\n      <th>price</th>\n      <th>minimum_nights</th>\n      <th>number_of_reviews</th>\n      <th>last_review</th>\n      <th>reviews_per_month</th>\n      <th>calculated_host_listings_count</th>\n      <th>availability_365</th>\n    </tr>\n  </thead>\n  <tbody>\n    <tr>\n      <th>0</th>\n      <td>6499</td>\n      <td>Belém 1 Bedroom Historical Apartment</td>\n      <td>14455</td>\n      <td>Bruno</td>\n      <td>Lisboa</td>\n      <td>Belm</td>\n      <td>38.697500</td>\n      <td>-9.197680</td>\n      <td>Entire home/apt</td>\n      <td>79</td>\n      <td>3</td>\n      <td>26</td>\n      <td>2020-01-03</td>\n      <td>0.36</td>\n      <td>1</td>\n      <td>242</td>\n    </tr>\n    <tr>\n      <th>1</th>\n      <td>25659</td>\n      <td>Heart of Alfama  - Coeur d'Alfama - Lisbon Center</td>\n      <td>107347</td>\n      <td>Ellie</td>\n      <td>Lisboa</td>\n      <td>Santa Maria Maior</td>\n      <td>38.711670</td>\n      <td>-9.126960</td>\n      <td>Entire home/apt</td>\n      <td>45</td>\n      <td>3</td>\n      <td>113</td>\n      <td>2019-12-08</td>\n      <td>1.46</td>\n      <td>1</td>\n      <td>365</td>\n    </tr>\n    <tr>\n      <th>2</th>\n      <td>29248</td>\n      <td>Apartamento Alfama com vista para o rio!</td>\n      <td>125768</td>\n      <td>Bárbara</td>\n      <td>Lisboa</td>\n      <td>Santa Maria Maior</td>\n      <td>38.712720</td>\n      <td>-9.126280</td>\n      <td>Entire home/apt</td>\n      <td>43</td>\n      <td>1</td>\n      <td>322</td>\n      <td>2020-06-14</td>\n      <td>2.74</td>\n      <td>1</td>\n      <td>329</td>\n    </tr>\n    <tr>\n      <th>3</th>\n      <td>29396</td>\n      <td>Alfama Hill - Boutique apartment</td>\n      <td>126415</td>\n      <td>Mónica</td>\n      <td>Lisboa</td>\n      <td>Santa Maria Maior</td>\n      <td>38.712390</td>\n      <td>-9.128870</td>\n      <td>Entire home/apt</td>\n      <td>44</td>\n      <td>2</td>\n      <td>247</td>\n      <td>2020-08-23</td>\n      <td>2.45</td>\n      <td>2</td>\n      <td>331</td>\n    </tr>\n    <tr>\n      <th>4</th>\n      <td>29915</td>\n      <td>Modern and Cool Apartment in Lisboa</td>\n      <td>128890</td>\n      <td>Sara</td>\n      <td>Lisboa</td>\n      <td>Avenidas Novas</td>\n      <td>38.747120</td>\n      <td>-9.152860</td>\n      <td>Entire home/apt</td>\n      <td>48</td>\n      <td>5</td>\n      <td>37</td>\n      <td>2020-01-21</td>\n      <td>0.30</td>\n      <td>1</td>\n      <td>293</td>\n    </tr>\n    <tr>\n      <th>...</th>\n      <td>...</td>\n      <td>...</td>\n      <td>...</td>\n      <td>...</td>\n      <td>...</td>\n      <td>...</td>\n      <td>...</td>\n      <td>...</td>\n      <td>...</td>\n      <td>...</td>\n      <td>...</td>\n      <td>...</td>\n      <td>...</td>\n      <td>...</td>\n      <td>...</td>\n      <td>...</td>\n    </tr>\n    <tr>\n      <th>507591</th>\n      <td>45505941</td>\n      <td>Stylish &amp; Quiet Room with PrivateWC- Alameda IST</td>\n      <td>23266121</td>\n      <td>Joana &amp; Francisco</td>\n      <td>Lisboa</td>\n      <td>Arroios</td>\n      <td>38.736281</td>\n      <td>-9.131548</td>\n      <td>Private room</td>\n      <td>45</td>\n      <td>30</td>\n      <td>0</td>\n      <td>NaN</td>\n      <td>NaN</td>\n      <td>6</td>\n      <td>0</td>\n    </tr>\n    <tr>\n      <th>507592</th>\n      <td>45506121</td>\n      <td>Stylish &amp; Spacious Room w PrivateWC- Alameda IST</td>\n      <td>23266121</td>\n      <td>Joana &amp; Francisco</td>\n      <td>Lisboa</td>\n      <td>Arroios</td>\n      <td>38.735840</td>\n      <td>-9.133190</td>\n      <td>Private room</td>\n      <td>45</td>\n      <td>30</td>\n      <td>0</td>\n      <td>NaN</td>\n      <td>NaN</td>\n      <td>6</td>\n      <td>0</td>\n    </tr>\n    <tr>\n      <th>507593</th>\n      <td>45506284</td>\n      <td>Queen Bed w Balcony &amp; PrivateWc - Alameda (IST)</td>\n      <td>23266121</td>\n      <td>Joana &amp; Francisco</td>\n      <td>Lisboa</td>\n      <td>Arroios</td>\n      <td>38.735527</td>\n      <td>-9.132067</td>\n      <td>Private room</td>\n      <td>50</td>\n      <td>30</td>\n      <td>0</td>\n      <td>NaN</td>\n      <td>NaN</td>\n      <td>6</td>\n      <td>0</td>\n    </tr>\n    <tr>\n      <th>507594</th>\n      <td>45506608</td>\n      <td>Quiet &amp; Comfortable room w PrivateWC - Alameda...</td>\n      <td>23266121</td>\n      <td>Joana &amp; Francisco</td>\n      <td>Lisboa</td>\n      <td>Arroios</td>\n      <td>38.735527</td>\n      <td>-9.132067</td>\n      <td>Private room</td>\n      <td>45</td>\n      <td>29</td>\n      <td>0</td>\n      <td>NaN</td>\n      <td>NaN</td>\n      <td>6</td>\n      <td>262</td>\n    </tr>\n    <tr>\n      <th>507595</th>\n      <td>45506858</td>\n      <td>Stylish UpperSuite Balcony PrivateWC- Alameda IST</td>\n      <td>23266121</td>\n      <td>Joana &amp; Francisco</td>\n      <td>Lisboa</td>\n      <td>Arroios</td>\n      <td>38.736630</td>\n      <td>-9.132290</td>\n      <td>Private room</td>\n      <td>69</td>\n      <td>29</td>\n      <td>0</td>\n      <td>NaN</td>\n      <td>NaN</td>\n      <td>6</td>\n      <td>264</td>\n    </tr>\n  </tbody>\n</table>\n<p>507596 rows × 16 columns</p>\n</div>"
     },
     "metadata": {},
     "execution_count": 5
    }
   ],
   "source": [
    "listings"
   ]
  },
  {
   "cell_type": "code",
   "execution_count": 52,
   "metadata": {},
   "outputs": [],
   "source": [
    "# Import all csv files and concatenate - reviews\n",
    "path = r'AIRBNB/reviews'\n",
    "all_files = glob.glob(os.path.join(path, \"*.csv\"))\n",
    "\n",
    "df_from_each_file = (pd.read_csv(f) for f in all_files)\n",
    "reviews = pd.concat(df_from_each_file, ignore_index=True)"
   ]
  },
  {
   "cell_type": "code",
   "execution_count": 53,
   "metadata": {},
   "outputs": [
    {
     "data": {
      "text/html": [
       "<div>\n",
       "<style scoped>\n",
       "    .dataframe tbody tr th:only-of-type {\n",
       "        vertical-align: middle;\n",
       "    }\n",
       "\n",
       "    .dataframe tbody tr th {\n",
       "        vertical-align: top;\n",
       "    }\n",
       "\n",
       "    .dataframe thead th {\n",
       "        text-align: right;\n",
       "    }\n",
       "</style>\n",
       "<table border=\"1\" class=\"dataframe\">\n",
       "  <thead>\n",
       "    <tr style=\"text-align: right;\">\n",
       "      <th></th>\n",
       "      <th>listing_id</th>\n",
       "      <th>date</th>\n",
       "    </tr>\n",
       "  </thead>\n",
       "  <tbody>\n",
       "    <tr>\n",
       "      <th>0</th>\n",
       "      <td>6499</td>\n",
       "      <td>2014-09-02</td>\n",
       "    </tr>\n",
       "    <tr>\n",
       "      <th>1</th>\n",
       "      <td>6499</td>\n",
       "      <td>2014-10-11</td>\n",
       "    </tr>\n",
       "    <tr>\n",
       "      <th>2</th>\n",
       "      <td>6499</td>\n",
       "      <td>2015-01-02</td>\n",
       "    </tr>\n",
       "    <tr>\n",
       "      <th>3</th>\n",
       "      <td>6499</td>\n",
       "      <td>2015-07-11</td>\n",
       "    </tr>\n",
       "    <tr>\n",
       "      <th>4</th>\n",
       "      <td>6499</td>\n",
       "      <td>2015-08-08</td>\n",
       "    </tr>\n",
       "    <tr>\n",
       "      <th>...</th>\n",
       "      <td>...</td>\n",
       "      <td>...</td>\n",
       "    </tr>\n",
       "    <tr>\n",
       "      <th>20485546</th>\n",
       "      <td>45325795</td>\n",
       "      <td>2020-09-15</td>\n",
       "    </tr>\n",
       "    <tr>\n",
       "      <th>20485547</th>\n",
       "      <td>45328565</td>\n",
       "      <td>2020-09-09</td>\n",
       "    </tr>\n",
       "    <tr>\n",
       "      <th>20485548</th>\n",
       "      <td>45328565</td>\n",
       "      <td>2020-09-17</td>\n",
       "    </tr>\n",
       "    <tr>\n",
       "      <th>20485549</th>\n",
       "      <td>45400563</td>\n",
       "      <td>2020-09-19</td>\n",
       "    </tr>\n",
       "    <tr>\n",
       "      <th>20485550</th>\n",
       "      <td>45433811</td>\n",
       "      <td>2020-09-18</td>\n",
       "    </tr>\n",
       "  </tbody>\n",
       "</table>\n",
       "<p>20485551 rows × 2 columns</p>\n",
       "</div>"
      ],
      "text/plain": [
       "          listing_id        date\n",
       "0               6499  2014-09-02\n",
       "1               6499  2014-10-11\n",
       "2               6499  2015-01-02\n",
       "3               6499  2015-07-11\n",
       "4               6499  2015-08-08\n",
       "...              ...         ...\n",
       "20485546    45325795  2020-09-15\n",
       "20485547    45328565  2020-09-09\n",
       "20485548    45328565  2020-09-17\n",
       "20485549    45400563  2020-09-19\n",
       "20485550    45433811  2020-09-18\n",
       "\n",
       "[20485551 rows x 2 columns]"
      ]
     },
     "execution_count": 53,
     "metadata": {},
     "output_type": "execute_result"
    }
   ],
   "source": [
    "reviews"
   ]
  },
  {
   "cell_type": "code",
   "execution_count": 54,
   "metadata": {},
   "outputs": [],
   "source": [
    "# Export full datasets - listings and reviews\n",
    "listings.to_csv('listings.csv', index=False)\n",
    "reviews.to_csv('reviews.csv', index=False)"
   ]
  },
  {
   "cell_type": "code",
   "execution_count": 55,
   "metadata": {},
   "outputs": [
    {
     "data": {
      "text/html": [
       "<div>\n",
       "<style scoped>\n",
       "    .dataframe tbody tr th:only-of-type {\n",
       "        vertical-align: middle;\n",
       "    }\n",
       "\n",
       "    .dataframe tbody tr th {\n",
       "        vertical-align: top;\n",
       "    }\n",
       "\n",
       "    .dataframe thead th {\n",
       "        text-align: right;\n",
       "    }\n",
       "</style>\n",
       "<table border=\"1\" class=\"dataframe\">\n",
       "  <thead>\n",
       "    <tr style=\"text-align: right;\">\n",
       "      <th></th>\n",
       "      <th>listing_id</th>\n",
       "      <th>date</th>\n",
       "      <th>freq</th>\n",
       "    </tr>\n",
       "  </thead>\n",
       "  <tbody>\n",
       "    <tr>\n",
       "      <th>0</th>\n",
       "      <td>6499</td>\n",
       "      <td>2014-09-02</td>\n",
       "      <td>421</td>\n",
       "    </tr>\n",
       "    <tr>\n",
       "      <th>1</th>\n",
       "      <td>6499</td>\n",
       "      <td>2014-10-11</td>\n",
       "      <td>421</td>\n",
       "    </tr>\n",
       "    <tr>\n",
       "      <th>2</th>\n",
       "      <td>6499</td>\n",
       "      <td>2015-01-02</td>\n",
       "      <td>421</td>\n",
       "    </tr>\n",
       "    <tr>\n",
       "      <th>3</th>\n",
       "      <td>6499</td>\n",
       "      <td>2015-07-11</td>\n",
       "      <td>421</td>\n",
       "    </tr>\n",
       "    <tr>\n",
       "      <th>4</th>\n",
       "      <td>6499</td>\n",
       "      <td>2015-08-08</td>\n",
       "      <td>421</td>\n",
       "    </tr>\n",
       "    <tr>\n",
       "      <th>...</th>\n",
       "      <td>...</td>\n",
       "      <td>...</td>\n",
       "      <td>...</td>\n",
       "    </tr>\n",
       "    <tr>\n",
       "      <th>20485546</th>\n",
       "      <td>45325795</td>\n",
       "      <td>2020-09-15</td>\n",
       "      <td>17</td>\n",
       "    </tr>\n",
       "    <tr>\n",
       "      <th>20485547</th>\n",
       "      <td>45328565</td>\n",
       "      <td>2020-09-09</td>\n",
       "      <td>55</td>\n",
       "    </tr>\n",
       "    <tr>\n",
       "      <th>20485548</th>\n",
       "      <td>45328565</td>\n",
       "      <td>2020-09-17</td>\n",
       "      <td>55</td>\n",
       "    </tr>\n",
       "    <tr>\n",
       "      <th>20485549</th>\n",
       "      <td>45400563</td>\n",
       "      <td>2020-09-19</td>\n",
       "      <td>5</td>\n",
       "    </tr>\n",
       "    <tr>\n",
       "      <th>20485550</th>\n",
       "      <td>45433811</td>\n",
       "      <td>2020-09-18</td>\n",
       "      <td>65</td>\n",
       "    </tr>\n",
       "  </tbody>\n",
       "</table>\n",
       "<p>20485551 rows × 3 columns</p>\n",
       "</div>"
      ],
      "text/plain": [
       "          listing_id        date  freq\n",
       "0               6499  2014-09-02   421\n",
       "1               6499  2014-10-11   421\n",
       "2               6499  2015-01-02   421\n",
       "3               6499  2015-07-11   421\n",
       "4               6499  2015-08-08   421\n",
       "...              ...         ...   ...\n",
       "20485546    45325795  2020-09-15    17\n",
       "20485547    45328565  2020-09-09    55\n",
       "20485548    45328565  2020-09-17    55\n",
       "20485549    45400563  2020-09-19     5\n",
       "20485550    45433811  2020-09-18    65\n",
       "\n",
       "[20485551 rows x 3 columns]"
      ]
     },
     "execution_count": 55,
     "metadata": {},
     "output_type": "execute_result"
    }
   ],
   "source": [
    "# Adds a column with the listing frequency\n",
    "reviews['freq'] = reviews.groupby('listing_id')['listing_id'].transform('count')\n",
    "reviews"
   ]
  },
  {
   "cell_type": "code",
   "execution_count": 56,
   "metadata": {
    "scrolled": true
   },
   "outputs": [
    {
     "data": {
      "text/html": [
       "<div>\n",
       "<style scoped>\n",
       "    .dataframe tbody tr th:only-of-type {\n",
       "        vertical-align: middle;\n",
       "    }\n",
       "\n",
       "    .dataframe tbody tr th {\n",
       "        vertical-align: top;\n",
       "    }\n",
       "\n",
       "    .dataframe thead th {\n",
       "        text-align: right;\n",
       "    }\n",
       "</style>\n",
       "<table border=\"1\" class=\"dataframe\">\n",
       "  <thead>\n",
       "    <tr style=\"text-align: right;\">\n",
       "      <th></th>\n",
       "      <th>id</th>\n",
       "      <th>name</th>\n",
       "      <th>host_id</th>\n",
       "      <th>host_name</th>\n",
       "      <th>neighbourhood_group</th>\n",
       "      <th>neighbourhood</th>\n",
       "      <th>latitude</th>\n",
       "      <th>longitude</th>\n",
       "      <th>room_type</th>\n",
       "      <th>price</th>\n",
       "      <th>minimum_nights</th>\n",
       "      <th>number_of_reviews</th>\n",
       "      <th>last_review</th>\n",
       "      <th>reviews_per_month</th>\n",
       "      <th>calculated_host_listings_count</th>\n",
       "      <th>availability_365</th>\n",
       "    </tr>\n",
       "  </thead>\n",
       "  <tbody>\n",
       "    <tr>\n",
       "      <th>0</th>\n",
       "      <td>6499</td>\n",
       "      <td>Belém 1 Bedroom Historical Apartment</td>\n",
       "      <td>14455</td>\n",
       "      <td>Bruno</td>\n",
       "      <td>Lisboa</td>\n",
       "      <td>Belm</td>\n",
       "      <td>38.69750</td>\n",
       "      <td>-9.19768</td>\n",
       "      <td>Entire home/apt</td>\n",
       "      <td>79</td>\n",
       "      <td>3</td>\n",
       "      <td>26</td>\n",
       "      <td>2020-01-03</td>\n",
       "      <td>0.36</td>\n",
       "      <td>1</td>\n",
       "      <td>242</td>\n",
       "    </tr>\n",
       "    <tr>\n",
       "      <th>1</th>\n",
       "      <td>25659</td>\n",
       "      <td>Heart of Alfama  - Coeur d'Alfama - Lisbon Center</td>\n",
       "      <td>107347</td>\n",
       "      <td>Ellie</td>\n",
       "      <td>Lisboa</td>\n",
       "      <td>Santa Maria Maior</td>\n",
       "      <td>38.71167</td>\n",
       "      <td>-9.12696</td>\n",
       "      <td>Entire home/apt</td>\n",
       "      <td>45</td>\n",
       "      <td>3</td>\n",
       "      <td>113</td>\n",
       "      <td>2019-12-08</td>\n",
       "      <td>1.46</td>\n",
       "      <td>1</td>\n",
       "      <td>365</td>\n",
       "    </tr>\n",
       "    <tr>\n",
       "      <th>2</th>\n",
       "      <td>29248</td>\n",
       "      <td>Apartamento Alfama com vista para o rio!</td>\n",
       "      <td>125768</td>\n",
       "      <td>Bárbara</td>\n",
       "      <td>Lisboa</td>\n",
       "      <td>Santa Maria Maior</td>\n",
       "      <td>38.71272</td>\n",
       "      <td>-9.12628</td>\n",
       "      <td>Entire home/apt</td>\n",
       "      <td>43</td>\n",
       "      <td>1</td>\n",
       "      <td>322</td>\n",
       "      <td>2020-06-14</td>\n",
       "      <td>2.74</td>\n",
       "      <td>1</td>\n",
       "      <td>329</td>\n",
       "    </tr>\n",
       "  </tbody>\n",
       "</table>\n",
       "</div>"
      ],
      "text/plain": [
       "      id                                               name  host_id  \\\n",
       "0   6499               Belém 1 Bedroom Historical Apartment    14455   \n",
       "1  25659  Heart of Alfama  - Coeur d'Alfama - Lisbon Center   107347   \n",
       "2  29248           Apartamento Alfama com vista para o rio!   125768   \n",
       "\n",
       "  host_name neighbourhood_group      neighbourhood  latitude  longitude  \\\n",
       "0     Bruno              Lisboa               Belm  38.69750   -9.19768   \n",
       "1     Ellie              Lisboa  Santa Maria Maior  38.71167   -9.12696   \n",
       "2   Bárbara              Lisboa  Santa Maria Maior  38.71272   -9.12628   \n",
       "\n",
       "         room_type  price  minimum_nights  number_of_reviews last_review  \\\n",
       "0  Entire home/apt     79               3                 26  2020-01-03   \n",
       "1  Entire home/apt     45               3                113  2019-12-08   \n",
       "2  Entire home/apt     43               1                322  2020-06-14   \n",
       "\n",
       "   reviews_per_month  calculated_host_listings_count  availability_365  \n",
       "0               0.36                               1               242  \n",
       "1               1.46                               1               365  \n",
       "2               2.74                               1               329  "
      ]
     },
     "execution_count": 56,
     "metadata": {},
     "output_type": "execute_result"
    }
   ],
   "source": [
    "listings.head(3)"
   ]
  },
  {
   "cell_type": "code",
   "execution_count": 57,
   "metadata": {},
   "outputs": [
    {
     "name": "stdout",
     "output_type": "stream",
     "text": [
      "<class 'pandas.core.frame.DataFrame'>\n",
      "RangeIndex: 507596 entries, 0 to 507595\n",
      "Data columns (total 16 columns):\n",
      " #   Column                          Non-Null Count   Dtype  \n",
      "---  ------                          --------------   -----  \n",
      " 0   id                              507596 non-null  int64  \n",
      " 1   name                            507205 non-null  object \n",
      " 2   host_id                         507596 non-null  int64  \n",
      " 3   host_name                       507410 non-null  object \n",
      " 4   neighbourhood_group             507596 non-null  object \n",
      " 5   neighbourhood                   507596 non-null  object \n",
      " 6   latitude                        507596 non-null  float64\n",
      " 7   longitude                       507596 non-null  float64\n",
      " 8   room_type                       507596 non-null  object \n",
      " 9   price                           507596 non-null  int64  \n",
      " 10  minimum_nights                  507596 non-null  int64  \n",
      " 11  number_of_reviews               507596 non-null  int64  \n",
      " 12  last_review                     423181 non-null  object \n",
      " 13  reviews_per_month               423181 non-null  float64\n",
      " 14  calculated_host_listings_count  507596 non-null  int64  \n",
      " 15  availability_365                507596 non-null  int64  \n",
      "dtypes: float64(3), int64(7), object(6)\n",
      "memory usage: 62.0+ MB\n"
     ]
    }
   ],
   "source": [
    "listings.info()"
   ]
  },
  {
   "cell_type": "code",
   "execution_count": 58,
   "metadata": {},
   "outputs": [
    {
     "data": {
      "text/plain": [
       "id                                    0\n",
       "name                                391\n",
       "host_id                               0\n",
       "host_name                           186\n",
       "neighbourhood_group                   0\n",
       "neighbourhood                         0\n",
       "latitude                              0\n",
       "longitude                             0\n",
       "room_type                             0\n",
       "price                                 0\n",
       "minimum_nights                        0\n",
       "number_of_reviews                     0\n",
       "last_review                       84415\n",
       "reviews_per_month                 84415\n",
       "calculated_host_listings_count        0\n",
       "availability_365                      0\n",
       "dtype: int64"
      ]
     },
     "execution_count": 58,
     "metadata": {},
     "output_type": "execute_result"
    }
   ],
   "source": [
    "listings.isna().sum()"
   ]
  },
  {
   "cell_type": "code",
   "execution_count": 59,
   "metadata": {},
   "outputs": [
    {
     "data": {
      "text/plain": [
       "41270"
      ]
     },
     "execution_count": 59,
     "metadata": {},
     "output_type": "execute_result"
    }
   ],
   "source": [
    "listings.duplicated().sum()"
   ]
  },
  {
   "cell_type": "code",
   "execution_count": 60,
   "metadata": {},
   "outputs": [
    {
     "data": {
      "text/html": [
       "<div>\n",
       "<style scoped>\n",
       "    .dataframe tbody tr th:only-of-type {\n",
       "        vertical-align: middle;\n",
       "    }\n",
       "\n",
       "    .dataframe tbody tr th {\n",
       "        vertical-align: top;\n",
       "    }\n",
       "\n",
       "    .dataframe thead th {\n",
       "        text-align: right;\n",
       "    }\n",
       "</style>\n",
       "<table border=\"1\" class=\"dataframe\">\n",
       "  <thead>\n",
       "    <tr style=\"text-align: right;\">\n",
       "      <th></th>\n",
       "      <th>room_type</th>\n",
       "      <th>price</th>\n",
       "      <th>minimum_nights</th>\n",
       "      <th>number_of_reviews</th>\n",
       "      <th>last_review</th>\n",
       "      <th>reviews_per_month</th>\n",
       "      <th>calculated_host_listings_count</th>\n",
       "      <th>availability_365</th>\n",
       "    </tr>\n",
       "  </thead>\n",
       "  <tbody>\n",
       "    <tr>\n",
       "      <th>count</th>\n",
       "      <td>507596</td>\n",
       "      <td>507596.000000</td>\n",
       "      <td>507596.000000</td>\n",
       "      <td>507596.000000</td>\n",
       "      <td>423181</td>\n",
       "      <td>423181.000000</td>\n",
       "      <td>507596.000000</td>\n",
       "      <td>507596.000000</td>\n",
       "    </tr>\n",
       "    <tr>\n",
       "      <th>unique</th>\n",
       "      <td>4</td>\n",
       "      <td>NaN</td>\n",
       "      <td>NaN</td>\n",
       "      <td>NaN</td>\n",
       "      <td>1784</td>\n",
       "      <td>NaN</td>\n",
       "      <td>NaN</td>\n",
       "      <td>NaN</td>\n",
       "    </tr>\n",
       "    <tr>\n",
       "      <th>top</th>\n",
       "      <td>Entire home/apt</td>\n",
       "      <td>NaN</td>\n",
       "      <td>NaN</td>\n",
       "      <td>NaN</td>\n",
       "      <td>2020-01-02</td>\n",
       "      <td>NaN</td>\n",
       "      <td>NaN</td>\n",
       "      <td>NaN</td>\n",
       "    </tr>\n",
       "    <tr>\n",
       "      <th>freq</th>\n",
       "      <td>373761</td>\n",
       "      <td>NaN</td>\n",
       "      <td>NaN</td>\n",
       "      <td>NaN</td>\n",
       "      <td>3665</td>\n",
       "      <td>NaN</td>\n",
       "      <td>NaN</td>\n",
       "      <td>NaN</td>\n",
       "    </tr>\n",
       "    <tr>\n",
       "      <th>mean</th>\n",
       "      <td>NaN</td>\n",
       "      <td>99.364944</td>\n",
       "      <td>3.089043</td>\n",
       "      <td>40.357984</td>\n",
       "      <td>NaN</td>\n",
       "      <td>1.525256</td>\n",
       "      <td>14.421331</td>\n",
       "      <td>224.607761</td>\n",
       "    </tr>\n",
       "    <tr>\n",
       "      <th>std</th>\n",
       "      <td>NaN</td>\n",
       "      <td>247.269182</td>\n",
       "      <td>12.582492</td>\n",
       "      <td>63.683562</td>\n",
       "      <td>NaN</td>\n",
       "      <td>1.518660</td>\n",
       "      <td>39.704689</td>\n",
       "      <td>128.813277</td>\n",
       "    </tr>\n",
       "    <tr>\n",
       "      <th>min</th>\n",
       "      <td>NaN</td>\n",
       "      <td>0.000000</td>\n",
       "      <td>1.000000</td>\n",
       "      <td>0.000000</td>\n",
       "      <td>NaN</td>\n",
       "      <td>0.010000</td>\n",
       "      <td>1.000000</td>\n",
       "      <td>0.000000</td>\n",
       "    </tr>\n",
       "    <tr>\n",
       "      <th>25%</th>\n",
       "      <td>NaN</td>\n",
       "      <td>45.000000</td>\n",
       "      <td>1.000000</td>\n",
       "      <td>2.000000</td>\n",
       "      <td>NaN</td>\n",
       "      <td>0.350000</td>\n",
       "      <td>1.000000</td>\n",
       "      <td>115.000000</td>\n",
       "    </tr>\n",
       "    <tr>\n",
       "      <th>50%</th>\n",
       "      <td>NaN</td>\n",
       "      <td>65.000000</td>\n",
       "      <td>2.000000</td>\n",
       "      <td>13.000000</td>\n",
       "      <td>NaN</td>\n",
       "      <td>1.010000</td>\n",
       "      <td>3.000000</td>\n",
       "      <td>267.000000</td>\n",
       "    </tr>\n",
       "    <tr>\n",
       "      <th>75%</th>\n",
       "      <td>NaN</td>\n",
       "      <td>100.000000</td>\n",
       "      <td>3.000000</td>\n",
       "      <td>51.000000</td>\n",
       "      <td>NaN</td>\n",
       "      <td>2.300000</td>\n",
       "      <td>10.000000</td>\n",
       "      <td>343.000000</td>\n",
       "    </tr>\n",
       "    <tr>\n",
       "      <th>max</th>\n",
       "      <td>NaN</td>\n",
       "      <td>20970.000000</td>\n",
       "      <td>1000.000000</td>\n",
       "      <td>981.000000</td>\n",
       "      <td>NaN</td>\n",
       "      <td>59.300000</td>\n",
       "      <td>340.000000</td>\n",
       "      <td>365.000000</td>\n",
       "    </tr>\n",
       "  </tbody>\n",
       "</table>\n",
       "</div>"
      ],
      "text/plain": [
       "              room_type          price  minimum_nights  number_of_reviews  \\\n",
       "count            507596  507596.000000   507596.000000      507596.000000   \n",
       "unique                4            NaN             NaN                NaN   \n",
       "top     Entire home/apt            NaN             NaN                NaN   \n",
       "freq             373761            NaN             NaN                NaN   \n",
       "mean                NaN      99.364944        3.089043          40.357984   \n",
       "std                 NaN     247.269182       12.582492          63.683562   \n",
       "min                 NaN       0.000000        1.000000           0.000000   \n",
       "25%                 NaN      45.000000        1.000000           2.000000   \n",
       "50%                 NaN      65.000000        2.000000          13.000000   \n",
       "75%                 NaN     100.000000        3.000000          51.000000   \n",
       "max                 NaN   20970.000000     1000.000000         981.000000   \n",
       "\n",
       "       last_review  reviews_per_month  calculated_host_listings_count  \\\n",
       "count       423181      423181.000000                   507596.000000   \n",
       "unique        1784                NaN                             NaN   \n",
       "top     2020-01-02                NaN                             NaN   \n",
       "freq          3665                NaN                             NaN   \n",
       "mean           NaN           1.525256                       14.421331   \n",
       "std            NaN           1.518660                       39.704689   \n",
       "min            NaN           0.010000                        1.000000   \n",
       "25%            NaN           0.350000                        1.000000   \n",
       "50%            NaN           1.010000                        3.000000   \n",
       "75%            NaN           2.300000                       10.000000   \n",
       "max            NaN          59.300000                      340.000000   \n",
       "\n",
       "        availability_365  \n",
       "count      507596.000000  \n",
       "unique               NaN  \n",
       "top                  NaN  \n",
       "freq                 NaN  \n",
       "mean          224.607761  \n",
       "std           128.813277  \n",
       "min             0.000000  \n",
       "25%           115.000000  \n",
       "50%           267.000000  \n",
       "75%           343.000000  \n",
       "max           365.000000  "
      ]
     },
     "execution_count": 60,
     "metadata": {},
     "output_type": "execute_result"
    }
   ],
   "source": [
    "listings.iloc[:,8:].describe(include=\"all\")"
   ]
  },
  {
   "cell_type": "code",
   "execution_count": 61,
   "metadata": {},
   "outputs": [
    {
     "data": {
      "application/vnd.jupyter.widget-view+json": {
       "model_id": "72378b86c24e4b1fb63031f6982e345d",
       "version_major": 2,
       "version_minor": 0
      },
      "text/plain": [
       "HBox(children=(FloatProgress(value=0.0, description='Summarize dataset', max=30.0, style=ProgressStyle(descrip…"
      ]
     },
     "metadata": {},
     "output_type": "display_data"
    },
    {
     "name": "stdout",
     "output_type": "stream",
     "text": [
      "\n"
     ]
    },
    {
     "data": {
      "application/vnd.jupyter.widget-view+json": {
       "model_id": "5c9af469ab554d7794aafb4063e4ee46",
       "version_major": 2,
       "version_minor": 0
      },
      "text/plain": [
       "HBox(children=(FloatProgress(value=0.0, description='Generate report structure', max=1.0, style=ProgressStyle(…"
      ]
     },
     "metadata": {},
     "output_type": "display_data"
    },
    {
     "name": "stdout",
     "output_type": "stream",
     "text": [
      "\n"
     ]
    },
    {
     "data": {
      "application/vnd.jupyter.widget-view+json": {
       "model_id": "ae7252b50be141b78ed19e7e912dc728",
       "version_major": 2,
       "version_minor": 0
      },
      "text/plain": [
       "HBox(children=(FloatProgress(value=0.0, description='Render HTML', max=1.0, style=ProgressStyle(description_wi…"
      ]
     },
     "metadata": {},
     "output_type": "display_data"
    },
    {
     "name": "stdout",
     "output_type": "stream",
     "text": [
      "\n"
     ]
    },
    {
     "data": {
      "application/vnd.jupyter.widget-view+json": {
       "model_id": "0c33cffe3a874618a868b08082e088f7",
       "version_major": 2,
       "version_minor": 0
      },
      "text/plain": [
       "HBox(children=(FloatProgress(value=0.0, description='Export report to file', max=1.0, style=ProgressStyle(desc…"
      ]
     },
     "metadata": {},
     "output_type": "display_data"
    },
    {
     "name": "stdout",
     "output_type": "stream",
     "text": [
      "\n"
     ]
    }
   ],
   "source": [
    "from pandas_profiling import ProfileReport\n",
    "prof = ProfileReport(listings)\n",
    "prof.to_file(output_file='airbnb_listings.html')"
   ]
  },
  {
   "cell_type": "code",
   "execution_count": 62,
   "metadata": {},
   "outputs": [
    {
     "data": {
      "text/html": [
       "<div>\n",
       "<style scoped>\n",
       "    .dataframe tbody tr th:only-of-type {\n",
       "        vertical-align: middle;\n",
       "    }\n",
       "\n",
       "    .dataframe tbody tr th {\n",
       "        vertical-align: top;\n",
       "    }\n",
       "\n",
       "    .dataframe thead th {\n",
       "        text-align: right;\n",
       "    }\n",
       "</style>\n",
       "<table border=\"1\" class=\"dataframe\">\n",
       "  <thead>\n",
       "    <tr style=\"text-align: right;\">\n",
       "      <th></th>\n",
       "      <th>listing_id</th>\n",
       "      <th>date</th>\n",
       "      <th>freq</th>\n",
       "    </tr>\n",
       "  </thead>\n",
       "  <tbody>\n",
       "    <tr>\n",
       "      <th>0</th>\n",
       "      <td>6499</td>\n",
       "      <td>2014-09-02</td>\n",
       "      <td>421</td>\n",
       "    </tr>\n",
       "    <tr>\n",
       "      <th>1</th>\n",
       "      <td>6499</td>\n",
       "      <td>2014-10-11</td>\n",
       "      <td>421</td>\n",
       "    </tr>\n",
       "    <tr>\n",
       "      <th>2</th>\n",
       "      <td>6499</td>\n",
       "      <td>2015-01-02</td>\n",
       "      <td>421</td>\n",
       "    </tr>\n",
       "  </tbody>\n",
       "</table>\n",
       "</div>"
      ],
      "text/plain": [
       "   listing_id        date  freq\n",
       "0        6499  2014-09-02   421\n",
       "1        6499  2014-10-11   421\n",
       "2        6499  2015-01-02   421"
      ]
     },
     "execution_count": 62,
     "metadata": {},
     "output_type": "execute_result"
    }
   ],
   "source": [
    "reviews.head(3)"
   ]
  },
  {
   "cell_type": "code",
   "execution_count": 63,
   "metadata": {},
   "outputs": [
    {
     "name": "stdout",
     "output_type": "stream",
     "text": [
      "<class 'pandas.core.frame.DataFrame'>\n",
      "RangeIndex: 20485551 entries, 0 to 20485550\n",
      "Data columns (total 3 columns):\n",
      " #   Column      Dtype \n",
      "---  ------      ----- \n",
      " 0   listing_id  int64 \n",
      " 1   date        object\n",
      " 2   freq        int64 \n",
      "dtypes: int64(2), object(1)\n",
      "memory usage: 468.9+ MB\n"
     ]
    }
   ],
   "source": [
    "reviews.info()"
   ]
  },
  {
   "cell_type": "code",
   "execution_count": 64,
   "metadata": {},
   "outputs": [
    {
     "data": {
      "text/plain": [
       "listing_id    0\n",
       "date          0\n",
       "freq          0\n",
       "dtype: int64"
      ]
     },
     "execution_count": 64,
     "metadata": {},
     "output_type": "execute_result"
    }
   ],
   "source": [
    "reviews.isna().sum()"
   ]
  },
  {
   "cell_type": "code",
   "execution_count": 65,
   "metadata": {},
   "outputs": [
    {
     "data": {
      "application/vnd.jupyter.widget-view+json": {
       "model_id": "8d469aa81437420aad03c2456d6d29ba",
       "version_major": 2,
       "version_minor": 0
      },
      "text/plain": [
       "HBox(children=(FloatProgress(value=0.0, description='Summarize dataset', max=17.0, style=ProgressStyle(descrip…"
      ]
     },
     "metadata": {},
     "output_type": "display_data"
    },
    {
     "name": "stdout",
     "output_type": "stream",
     "text": [
      "\n"
     ]
    },
    {
     "data": {
      "application/vnd.jupyter.widget-view+json": {
       "model_id": "b2760247564a4ae48d59e35ce86da5eb",
       "version_major": 2,
       "version_minor": 0
      },
      "text/plain": [
       "HBox(children=(FloatProgress(value=0.0, description='Generate report structure', max=1.0, style=ProgressStyle(…"
      ]
     },
     "metadata": {},
     "output_type": "display_data"
    },
    {
     "name": "stdout",
     "output_type": "stream",
     "text": [
      "\n"
     ]
    },
    {
     "data": {
      "application/vnd.jupyter.widget-view+json": {
       "model_id": "6e2490d2e63e4eacbf4a3b76b64bbb4f",
       "version_major": 2,
       "version_minor": 0
      },
      "text/plain": [
       "HBox(children=(FloatProgress(value=0.0, description='Render HTML', max=1.0, style=ProgressStyle(description_wi…"
      ]
     },
     "metadata": {},
     "output_type": "display_data"
    },
    {
     "name": "stdout",
     "output_type": "stream",
     "text": [
      "\n"
     ]
    },
    {
     "data": {
      "application/vnd.jupyter.widget-view+json": {
       "model_id": "7c523d21f52a47dc9badad246bcdf323",
       "version_major": 2,
       "version_minor": 0
      },
      "text/plain": [
       "HBox(children=(FloatProgress(value=0.0, description='Export report to file', max=1.0, style=ProgressStyle(desc…"
      ]
     },
     "metadata": {},
     "output_type": "display_data"
    },
    {
     "name": "stdout",
     "output_type": "stream",
     "text": [
      "\n"
     ]
    }
   ],
   "source": [
    "prof_ar = ProfileReport(reviews)\n",
    "prof_ar.to_file(output_file='airbnb_reviews.html')"
   ]
  }
 ],
 "metadata": {
  "kernelspec": {
   "display_name": "Python 3",
   "language": "python",
   "name": "python3"
  },
  "language_info": {
   "codemirror_mode": {
    "name": "ipython",
    "version": 3
   },
   "file_extension": ".py",
   "mimetype": "text/x-python",
   "name": "python",
   "nbconvert_exporter": "python",
   "pygments_lexer": "ipython3",
   "version": "3.7.3-final"
  }
 },
 "nbformat": 4,
 "nbformat_minor": 5
}